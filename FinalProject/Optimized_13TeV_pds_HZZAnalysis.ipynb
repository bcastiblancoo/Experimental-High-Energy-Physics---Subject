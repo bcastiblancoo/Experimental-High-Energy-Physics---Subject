{
  "nbformat": 4,
  "nbformat_minor": 0,
  "metadata": {
    "colab": {
      "name": "Optimized_13TeV-pds-HZZAnalysis.ipynb",
      "provenance": [],
      "collapsed_sections": [],
      "machine_shape": "hm",
      "include_colab_link": true
    },
    "kernelspec": {
      "name": "python3",
      "display_name": "Python 3"
    }
  },
  "cells": [
    {
      "cell_type": "markdown",
      "metadata": {
        "id": "view-in-github",
        "colab_type": "text"
      },
      "source": [
        "<a href=\"https://colab.research.google.com/github/bcastiblancoo/Experimental-High-Energy-Physics---Subject/blob/main/FinalProject/Optimized_13TeV_pds_HZZAnalysis.ipynb\" target=\"_parent\"><img src=\"https://colab.research.google.com/assets/colab-badge.svg\" alt=\"Open In Colab\"/></a>"
      ]
    },
    {
      "cell_type": "markdown",
      "source": [
        "**First time setup on your computer**\n",
        "\n",
        "This first cell only needs to be run the first time you open this notebook on your computer.\n",
        "\n",
        "If you close Jupyter and re-open on the same computer, you won't need to run this first cell again.\n",
        "\n",
        "If you open on mybinder, you don't need to run this cell."
      ],
      "metadata": {
        "id": "WU9YIGYOl_Pr"
      }
    },
    {
      "cell_type": "markdown",
      "source": [
        "**To setup everytime**\n",
        "\n",
        "We're going to be using a number of tools to help us:\n",
        "\n",
        "**uproot**: lets us read .root files typically used in particle physics into data formats used in python\n",
        "\n",
        "**awkward:** lets us store data as awkward arrays, a format that generalizes numpy to nested data with possibly variable length lists\n",
        "\n",
        "**vector:** to allow vectorized 4-momentum calculations\n",
        "\n",
        "**numpy:** provides numerical calculations such as histogramming\n",
        "\n",
        "**matplotlib:** common tool for making plots, figures, images, visualisations"
      ],
      "metadata": {
        "id": "yayfRVdXmMen"
      }
    },
    {
      "cell_type": "code",
      "source": [
        "import sys\n",
        "!pip install uproot3 vector numpy matplotlib #awkward"
      ],
      "metadata": {
        "colab": {
          "base_uri": "https://localhost:8080/"
        },
        "id": "HawU75H-2-zk",
        "outputId": "39207803-92c0-4dee-ff69-afaaf652e388"
      },
      "execution_count": 1,
      "outputs": [
        {
          "output_type": "stream",
          "name": "stdout",
          "text": [
            "Requirement already satisfied: uproot3 in /usr/local/lib/python3.7/dist-packages (3.14.4)\n",
            "Requirement already satisfied: vector in /usr/local/lib/python3.7/dist-packages (0.8.5)\n",
            "Requirement already satisfied: numpy in /usr/local/lib/python3.7/dist-packages (1.19.5)\n",
            "Requirement already satisfied: matplotlib in /usr/local/lib/python3.7/dist-packages (3.2.2)\n",
            "Requirement already satisfied: uproot3-methods in /usr/local/lib/python3.7/dist-packages (from uproot3) (0.10.1)\n",
            "Requirement already satisfied: awkward0 in /usr/local/lib/python3.7/dist-packages (from uproot3) (0.15.5)\n",
            "Requirement already satisfied: cachetools in /usr/local/lib/python3.7/dist-packages (from uproot3) (4.2.4)\n",
            "Requirement already satisfied: typing-extensions in /usr/local/lib/python3.7/dist-packages (from vector) (3.10.0.2)\n",
            "Requirement already satisfied: importlib-metadata>=0.22 in /usr/local/lib/python3.7/dist-packages (from vector) (4.10.1)\n",
            "Requirement already satisfied: packaging>=19.0 in /usr/local/lib/python3.7/dist-packages (from vector) (21.3)\n",
            "Requirement already satisfied: zipp>=0.5 in /usr/local/lib/python3.7/dist-packages (from importlib-metadata>=0.22->vector) (3.7.0)\n",
            "Requirement already satisfied: pyparsing!=3.0.5,>=2.0.2 in /usr/local/lib/python3.7/dist-packages (from packaging>=19.0->vector) (3.0.7)\n",
            "Requirement already satisfied: python-dateutil>=2.1 in /usr/local/lib/python3.7/dist-packages (from matplotlib) (2.8.2)\n",
            "Requirement already satisfied: cycler>=0.10 in /usr/local/lib/python3.7/dist-packages (from matplotlib) (0.11.0)\n",
            "Requirement already satisfied: kiwisolver>=1.0.1 in /usr/local/lib/python3.7/dist-packages (from matplotlib) (1.3.2)\n",
            "Requirement already satisfied: six>=1.5 in /usr/local/lib/python3.7/dist-packages (from python-dateutil>=2.1->matplotlib) (1.15.0)\n"
          ]
        }
      ]
    },
    {
      "cell_type": "code",
      "source": [
        "import uproot3 # library for reading .root files\n",
        "import pandas as pd # to represent nested data in columnar format\n",
        "#import awkward as ak\n",
        "import vector # for 4-momentum calculations\n",
        "import time # to measure time to analyse\n",
        "import math # for mathematical functions such as square root\n",
        "import numpy as np # for numerical calculations such as histogramming\n",
        "import matplotlib.pyplot as plt # for plotting\n",
        "from matplotlib.ticker import MaxNLocator,AutoMinorLocator # for minor ticks\n",
        "import infofile"
      ],
      "metadata": {
        "id": "l2cVdHYJ3CDS"
      },
      "execution_count": 2,
      "outputs": []
    },
    {
      "cell_type": "markdown",
      "source": [
        "**Lumi, fraction, file path**\n",
        "\n",
        "General definitions of fraction of data used, where to access the input files"
      ],
      "metadata": {
        "id": "MU395t3PsUFc"
      }
    },
    {
      "cell_type": "code",
      "source": [
        "lumi = 10 # fb-1 # data_A,data_B,data_C,data_D\n",
        "\n",
        "fraction = 1.0 # reduce this is if you want the code to run quicker\n",
        "                                                                                                                                  \n",
        "#tuple_path = \"Input/4lep/\" # local \n",
        "tuple_path = \"https://atlas-opendata.web.cern.ch/atlas-opendata/samples/2020/4lep/\" # web address"
      ],
      "metadata": {
        "id": "1ZbSFbqvsTyo"
      },
      "execution_count": 3,
      "outputs": []
    },
    {
      "cell_type": "markdown",
      "source": [
        "**samples to process**"
      ],
      "metadata": {
        "id": "60dtJvsYsZ58"
      }
    },
    {
      "cell_type": "code",
      "source": [
        "samples = {\n",
        "\n",
        "    'data': {\n",
        "        'list' : ['data_A','data_B','data_C','data_D'],\n",
        "    },\n",
        "    \n",
        "    r'$ZZ$' : { # ZZ and diboson background\n",
        "        'list' : ['llll','ZqqZll','llvv','lllv'], #'lvvv'\n",
        "        'color' : \"#ffe900\" # 046865 Middle yellow # 046865 Skobeloff\n",
        "    },\n",
        "\n",
        "    r'$Z+jets$' : { # Z + jets\n",
        "        'list' : ['Zee','Zmumu','Ztautau'],\n",
        "        'color' : \"#6b59d3\" # Slate blue   \n",
        "    },\n",
        "    \n",
        "    r'ttbar,single-top' : { # t decay\n",
        "        'list' : ['ttbar_lep','single_top_tchan','single_antitop_tchan','single_antitop_schan','single_top_wtchan','single_antitop_wtchan'],\n",
        "        'color' : \"#00cdff\" # light blue\n",
        "    },\n",
        "\n",
        "    r'Higgs ($m_H$ = 125 GeV)' : { # Higgs boson decay: H -> ZZ -> llll\n",
        "        'list' : ['ggH125_ZZ4lep','VBFH125_ZZ4lep','WH125_ZZ4lep','ZH125_ZZ4lep'],\n",
        "        'color' : \"#ff0000\" # Red\n",
        "    },\n",
        "\n",
        "}"
      ],
      "metadata": {
        "id": "eLhPzTfGsetg"
      },
      "execution_count": 4,
      "outputs": []
    },
    {
      "cell_type": "markdown",
      "source": [
        "Units, as stored in the data files"
      ],
      "metadata": {
        "id": "seH97Ducskcb"
      }
    },
    {
      "cell_type": "markdown",
      "source": [
        "Define function to get data from files.\n",
        "\n",
        "The datasets used in this notebook have already been filtered to include at least 4 leptons per event, so that processing is quicker."
      ],
      "metadata": {
        "id": "S0vfXFEusos5"
      }
    },
    {
      "cell_type": "code",
      "execution_count": 5,
      "metadata": {
        "id": "ed613b3a"
      },
      "outputs": [],
      "source": [
        "def get_data_from_files():\n",
        "\n",
        "    data = {} # define empty dictionary to hold dataframes\n",
        "    nIn_total=0\n",
        "    nOut_total=0\n",
        "    for s in samples: # loop over samples\n",
        "        print('Processing '+s+' samples') # print which sample\n",
        "        frames = [] # define empty list to hold data\n",
        "        for val in samples[s]['list']: # loop over each file\n",
        "            if s == 'data': prefix = \"Data/\" # Data prefix\n",
        "            else: # MC prefix\n",
        "                prefix = \"MC/mc_\"+str(infofile.infos[val][\"DSID\"])+\".\"\n",
        "            fileString = tuple_path+prefix+val+\".4lep.root\" # file name to open\n",
        "            temp,nIn,nOut = read_file(fileString,val) # call the function read_file defined below\n",
        "            nIn_total+=nIn\n",
        "            nOut_total+=nOut\n",
        "            frames.append(temp) # append dataframe returned from read_file to list of dataframes\n",
        "            #print(temp['lep_pt'])\n",
        "            #print(temp['mllll'])\n",
        "        data[s] = pd.concat(frames) # dictionary entry is concatenated dataframes\n",
        "    \n",
        "    return data, nIn_total, nOut_total # return dictionary of dataframes"
      ]
    },
    {
      "cell_type": "markdown",
      "source": [
        "define function to calculate weight of MC event"
      ],
      "metadata": {
        "id": "A3CoJc0fsvgd"
      }
    },
    {
      "cell_type": "code",
      "execution_count": 6,
      "metadata": {
        "id": "1beb4880"
      },
      "outputs": [],
      "source": [
        "def calc_weight(xsec_weight, mcWeight, scaleFactor_PILEUP,\n",
        "                scaleFactor_ELE, scaleFactor_MUON, \n",
        "                scaleFactor_LepTRIGGER ):\n",
        "    return (xsec_weight * mcWeight * scaleFactor_PILEUP * scaleFactor_ELE * scaleFactor_MUON  * scaleFactor_LepTRIGGER)"
      ]
    },
    {
      "cell_type": "markdown",
      "source": [
        "define function to get cross-section weight"
      ],
      "metadata": {
        "id": "95AszkguszJw"
      }
    },
    {
      "cell_type": "code",
      "execution_count": 7,
      "metadata": {
        "id": "6161b7ca"
      },
      "outputs": [],
      "source": [
        "def get_xsec_weight(sample):\n",
        "    info = infofile.infos[sample] # open infofile\n",
        "    xsec_weight = (lumi*1000*info[\"xsec\"])/(info[\"sumw\"]*info[\"red_eff\"]) #*1000 to go from fb-1 to pb-1\n",
        "    return xsec_weight # return cross-section weight"
      ]
    },
    {
      "cell_type": "markdown",
      "source": [
        "define function to calculate 4-lepton invariant mass.\n",
        "\n",
        "Note: lep_(pt|eta|phi|E) are variable length lists of lepton momentum components for each event, represented by awkward arrays."
      ],
      "metadata": {
        "id": "bzN-TrHEs5lk"
      }
    },
    {
      "cell_type": "code",
      "execution_count": 8,
      "metadata": {
        "id": "ea0c51c0"
      },
      "outputs": [],
      "source": [
        "def calc_mllll(lep_pt, lep_eta, lep_phi, lep_E):\n",
        "    # first lepton is [0], 2nd lepton is [1] etc\n",
        "    px_0 = lep_pt[0]*math.cos(lep_phi[0]) # x-component of lepton[0] momentum\n",
        "    py_0 = lep_pt[0]*math.sin(lep_phi[0]) # y-component of lepton[0] momentum\n",
        "    pz_0 = lep_pt[0]*math.sinh(lep_eta[0]) # z-component of lepton[0] momentum\n",
        "    px_1 = lep_pt[1]*math.cos(lep_phi[1]) # x-component of lepton[1] momentum\n",
        "    py_1 = lep_pt[1]*math.sin(lep_phi[1]) # y-component of lepton[1] momentum\n",
        "    pz_1 = lep_pt[1]*math.sinh(lep_eta[1]) # z-component of lepton[1] momentum\n",
        "    px_2 = lep_pt[2]*math.cos(lep_phi[2]) # x-component of lepton[2] momentum\n",
        "    py_2 = lep_pt[2]*math.sin(lep_phi[2]) # y-component of lepton[2] momentum\n",
        "    pz_2 = lep_pt[2]*math.sinh(lep_eta[2]) # z-component of lepton[2] momentum\n",
        "    px_3 = lep_pt[3]*math.cos(lep_phi[3]) # x-component of lepton[3] momentum\n",
        "    py_3 = lep_pt[3]*math.sin(lep_phi[3]) # y-component of lepton[3] momentum\n",
        "    pz_3 = lep_pt[3]*math.sinh(lep_eta[3]) # z-component of lepton[3] momentum    \n",
        "    sumpx = px_0 + px_1 + px_2 + px_3 # x-component of momentum\n",
        "    sumpy = py_0 + py_1 + py_2 + py_3 # y-component of momentum\n",
        "    sumpz = pz_0 + pz_1 + pz_2 + pz_3 # z-component of momentum \n",
        "    sump = math.sqrt(sumpx**2 + sumpy**2 + sumpz**2) # magnitude of momentum \n",
        "    sumE = lep_E[0] + lep_E[1] + lep_E[2] + lep_E[3] # energy of dilepton system\n",
        "    return math.sqrt(sumE**2 - sump**2)/1000 #/1000 to go from MeV to GeV"
      ]
    },
    {
      "cell_type": "code",
      "source": [
        "#def lepton_eta(lep_eta):\n",
        "#  return lep_eta"
      ],
      "metadata": {
        "id": "JSilC3ftP5tn"
      },
      "execution_count": 9,
      "outputs": []
    },
    {
      "cell_type": "code",
      "source": [
        "def leadlepton_pt(lep_pt):\n",
        "  return lep_pt[0]/1000."
      ],
      "metadata": {
        "id": "YGvhobqYQGLY"
      },
      "execution_count": 10,
      "outputs": []
    },
    {
      "cell_type": "code",
      "source": [
        "def number_jets(jet_n):\n",
        "  return jet_n"
      ],
      "metadata": {
        "id": "lW8KZA4eQiQM"
      },
      "execution_count": 11,
      "outputs": []
    },
    {
      "cell_type": "code",
      "source": [
        "def number_leptons(lep_n):\n",
        "  return lep_n"
      ],
      "metadata": {
        "id": "pc2dFBykYaNe"
      },
      "execution_count": 12,
      "outputs": []
    },
    {
      "cell_type": "code",
      "source": [
        "def lepton_charge(lep_charge):\n",
        "  return lep_charge"
      ],
      "metadata": {
        "id": "nnFkjH1iZB1g"
      },
      "execution_count": 13,
      "outputs": []
    },
    {
      "cell_type": "code",
      "source": [
        "def lepton_flavour(lep_type):\n",
        "  return lep_type"
      ],
      "metadata": {
        "id": "VP_Spu31ZJxC"
      },
      "execution_count": 14,
      "outputs": []
    },
    {
      "cell_type": "markdown",
      "source": [
        "**Changing a cut**\n",
        "\n",
        "\n",
        "If you change a cut: Cell -> Run All Below\n",
        "\n",
        "If you change a cut here, you also need to make sure the cut is applied in the \"Applying a cut\" cell."
      ],
      "metadata": {
        "id": "1oC5WUTps-X3"
      }
    },
    {
      "cell_type": "code",
      "execution_count": 15,
      "metadata": {
        "id": "b0954ac9"
      },
      "outputs": [],
      "source": [
        "def trigger(trigE, trigM):\n",
        "    if((trigE != True) and (trigM != True)): \n",
        "      return True\n",
        "    return False\n",
        "\n",
        "def goodlep_cut(lep_n, lep_pt, lep_eta, lep_ptcone30, lep_etcone20, lep_type, lep_isTightID):\n",
        "    goodlep_n=0\n",
        "\n",
        "    for i in range (lep_n):\n",
        "        #if(lep_isTightID[i]==False): \n",
        "        #  continue\n",
        "        #Lepton is highly isolated and hard\n",
        "        if(lep_pt[i]<=5000. or (lep_ptcone30[i]/lep_pt[i]>=0.3) or (lep_etcone20[i]/lep_pt[i]>=0.3)): \n",
        "          continue\n",
        "        # electron selection in fiducial region excluding candidates in the transition region between \n",
        "        #the barrel and endcap electromagnetic calorimeters\n",
        "        if(lep_type[i]==11 and abs(lep_eta[i])<2.47 and (abs(lep_eta[i])<1.37 or abs(lep_eta[i])>1.52)):\n",
        "            goodlep_n+=1\n",
        "        # muon selection\n",
        "        if(lep_type[i]==13 and abs(lep_eta[i])<2.5):\n",
        "            goodlep_n+=1\n",
        "                   \n",
        "    if(goodlep_n==4): \n",
        "      return False\n",
        "    return True    \n",
        "\n",
        "def cut_lep_pt(lep_pt):\n",
        "    return lep_pt[0]<25000. or lep_pt[1]<15000. or lep_pt[2]<10000. or lep_pt[3]<7000.\n",
        "\n",
        "def cut_lep_charge(lep_charge):     \n",
        "    if(lep_charge[0] + lep_charge[1] + lep_charge[2] + lep_charge[3] != 0): \n",
        "      return True\n",
        "    return False\n",
        "    \n",
        "def cut_lep_type(lep_type):\n",
        "    sum_lep_type = lep_type[0] + lep_type[1] + lep_type[2] + lep_type[3]\n",
        "    if((sum_lep_type != 44) and (sum_lep_type != 48) and (sum_lep_type != 52)): \n",
        "      return True\n",
        "    return False"
      ]
    },
    {
      "cell_type": "markdown",
      "source": [
        "**Applying a cut**\n",
        "\n",
        "\n",
        "If you add a cut: Cell -> Run All Below"
      ],
      "metadata": {
        "id": "4ZyHIeSvtGIk"
      }
    },
    {
      "cell_type": "code",
      "execution_count": 16,
      "metadata": {
        "id": "2780e715"
      },
      "outputs": [],
      "source": [
        "def read_file(path,sample):\n",
        "    \n",
        "    print(\"\\tProcessing: \"+sample) # print which sample is being processed\n",
        "    data_all = pd.DataFrame() # define empty pandas DataFrame to hold all data for this sample\n",
        "    tree = uproot3.open(path)[\"mini\"] # open the tree called mini\n",
        "    numevents = uproot3.numentries(path, \"mini\") # number of events\n",
        "    if 'data' not in sample: xsec_weight = get_xsec_weight(sample) # get cross-section weight\n",
        "    nIn_total=0\n",
        "    nOut_total=0\n",
        "    for data in tree.iterate(['lep_charge','lep_type','lep_pt',\n",
        "                              'lep_ptcone30','lep_etcone20','lep_isTightID',\n",
        "                              'lep_eta','lep_phi','lep_E','lep_n',\n",
        "                              'mcWeight','scaleFactor_PILEUP',\n",
        "                              'scaleFactor_ELE','scaleFactor_MUON',\n",
        "                              'scaleFactor_LepTRIGGER','trigE','trigM','jet_n'], # variables to calculate Monte Carlo weight\n",
        "                             outputtype=pd.DataFrame, # choose output type as pandas DataFrame\n",
        "                             entrystop=numevents*fraction): # process up to numevents*fraction\n",
        "\n",
        "        nIn = len(data.index) # number of events in this batch\n",
        "        nIn_total+=nIn\n",
        "        #print(data[['lep_pt', 'mcWeight']])\n",
        "        nOut = 0\n",
        "        if 'data' not in sample: # only do this for Monte Carlo simulation files\n",
        "            # multiply all Monte Carlo weights and scale factors together to give total weight\n",
        "        \n",
        "            data['totalWeight'] = np.vectorize(calc_weight)(xsec_weight,\n",
        "                                                            data.mcWeight,\n",
        "                                                            data.scaleFactor_PILEUP,\n",
        "                                                            data.scaleFactor_ELE,\n",
        "                                                            data.scaleFactor_MUON,\n",
        "                                                            data.scaleFactor_LepTRIGGER)\n",
        "        \n",
        "        #cut on trigger\n",
        "        fail = data[np.vectorize(trigger)(data.trigE, data.trigM) ].index # get events that fail this selection\n",
        "        data.drop(fail,inplace=True) # drop the events with fewer than\n",
        "        if len(data.index)==0: \n",
        "          continue # move onto next batch if no events left \n",
        "\n",
        "        #cut on goodlepton\n",
        "        fail = data[np.vectorize(goodlep_cut)(data.lep_n, data.lep_pt, data.lep_eta, data.lep_ptcone30, \n",
        "                                               data.lep_etcone20, data.lep_type, data.lep_isTightID) ].index # get events that fail this selection\n",
        "        data.drop(fail,inplace=True) # drop the events with fewer than\n",
        "        if len(data.index)==0: \n",
        "          continue # move onto next batch if no events left\n",
        "\n",
        "        #Cut on lepton pTs:\n",
        "        fail = data[np.vectorize(cut_lep_pt)(data.lep_pt)].index\n",
        "        data.drop(fail,inplace=True)\n",
        "        if len(data.index)==0:\n",
        "          continue\n",
        "\n",
        "        #cut on charge and lepton type       \n",
        "        \n",
        "        fail = data[ np.vectorize(cut_lep_charge)(data.lep_charge) ].index # get events that fail this selection\n",
        "        data.drop(fail,inplace=True) # drop the events with fewer than 1 b-jets\n",
        "        if len(data.index)==0:\n",
        "          continue # move onto next batch if no events left\n",
        "            \n",
        "        fail = data[ np.vectorize(cut_lep_type)(data.lep_type) ].index # get events that fail this selection\n",
        "        data.drop(fail,inplace=True) # drop the events with fewer than 1 b-jets\n",
        "        if len(data.index)==0:\n",
        "          continue # move onto next batch if no events left\n",
        "\n",
        "        data['leadlepton_pt'] = np.vectorize(leadlepton_pt)(data.lep_pt)\n",
        "        data['number_leptons'] = np.vectorize(number_leptons)(data.lep_n)\n",
        "        data['number_jets'] = np.vectorize(number_jets)(data.jet_n)\n",
        "\n",
        "        # calculation of 4-lepton invariant mass using the function calc_mllll defined above\n",
        "        data['mllll'] = np.vectorize(calc_mllll)(data.lep_pt,data.lep_eta,data.lep_phi,data.lep_E)\n",
        "        nOut = len(data.index) # number of events passing cuts in this batch\n",
        "        nOut_total+=nOut\n",
        "        data_all = data_all.append(data) # append dataframe from this batch to the dataframe for the whole sample\n",
        "        #print(data[['lep_pt', 'mllll']])\n",
        "        print(\"\\t\\t nIn: \"+str(nIn)+\",\\t nOut: \\t\"+str(nOut)) # events before and after\n",
        "    \n",
        "    print(\"\\t\\t nIn_total: \"+str(nIn_total)+\",\\t nOut_total: \\t\"+str(nOut_total))\n",
        "\n",
        "    return data_all, nIn_total, nOut_total # return dataframe containing events passing all cuts"
      ]
    },
    {
      "cell_type": "markdown",
      "source": [
        "This is where the processing happens"
      ],
      "metadata": {
        "id": "gtTmGyimtL-e"
      }
    },
    {
      "cell_type": "code",
      "source": [
        "data,nIn_total,nOut_total = get_data_from_files()\n",
        "print(\"Number of input events:\",nIn_total)\n",
        "print(\"Number of output events:\",nOut_total)"
      ],
      "metadata": {
        "colab": {
          "base_uri": "https://localhost:8080/"
        },
        "id": "4nJ4ky8_3pqZ",
        "outputId": "3bada635-5741-4fc0-892b-e9df6f7bb029"
      },
      "execution_count": 17,
      "outputs": [
        {
          "output_type": "stream",
          "name": "stdout",
          "text": [
            "Processing data samples\n",
            "\tProcessing: data_A\n",
            "\t\t nIn: 39,\t nOut: \t19\n",
            "\t\t nIn_total: 39,\t nOut_total: \t19\n",
            "\tProcessing: data_B\n",
            "\t\t nIn: 156,\t nOut: \t55\n",
            "\t\t nIn_total: 156,\t nOut_total: \t55\n",
            "\tProcessing: data_C\n",
            "\t\t nIn: 237,\t nOut: \t105\n",
            "\t\t nIn_total: 237,\t nOut_total: \t105\n",
            "\tProcessing: data_D\n",
            "\t\t nIn: 400,\t nOut: \t186\n",
            "\t\t nIn_total: 400,\t nOut_total: \t186\n",
            "Processing $ZZ$ samples\n",
            "\tProcessing: llll\n",
            "\t\t nIn: 106415,\t nOut: \t87619\n",
            "\t\t nIn: 106415,\t nOut: \t87585\n",
            "\t\t nIn: 106415,\t nOut: \t87515\n",
            "\t\t nIn: 106415,\t nOut: \t87491\n",
            "\t\t nIn: 106415,\t nOut: \t87475\n",
            "\t\t nIn: 22204,\t nOut: \t18287\n",
            "\t\t nIn_total: 554279,\t nOut_total: \t455972\n",
            "\tProcessing: ZqqZll\n",
            "\t\t nIn: 254,\t nOut: \t26\n",
            "\t\t nIn_total: 254,\t nOut_total: \t26\n",
            "\tProcessing: llvv\n",
            "\t\t nIn: 137,\t nOut: \t17\n",
            "\t\t nIn_total: 137,\t nOut_total: \t17\n",
            "\tProcessing: lllv\n",
            "\t\t nIn: 9340,\t nOut: \t1522\n",
            "\t\t nIn_total: 9340,\t nOut_total: \t1522\n",
            "Processing $Z+jets$ samples\n",
            "\tProcessing: Zee\n",
            "\t\t nIn: 898,\t nOut: \t110\n",
            "\t\t nIn_total: 898,\t nOut_total: \t110\n",
            "\tProcessing: Zmumu\n",
            "\t\t nIn: 684,\t nOut: \t107\n",
            "\t\t nIn_total: 684,\t nOut_total: \t107\n",
            "\tProcessing: Ztautau\n",
            "\t\t nIn_total: 9,\t nOut_total: \t0\n",
            "Processing ttbar,single-top samples\n",
            "\tProcessing: ttbar_lep\n",
            "\t\t nIn: 1031,\t nOut: \t75\n",
            "\t\t nIn_total: 1031,\t nOut_total: \t75\n",
            "\tProcessing: single_top_tchan\n",
            "\t\t nIn_total: 2,\t nOut_total: \t0\n",
            "\tProcessing: single_antitop_tchan\n",
            "\t\t nIn_total: 2,\t nOut_total: \t0\n",
            "\tProcessing: single_antitop_schan\n",
            "\t\t nIn_total: 2,\t nOut_total: \t0\n",
            "\tProcessing: single_top_wtchan\n",
            "\t\t nIn: 56,\t nOut: \t4\n",
            "\t\t nIn_total: 56,\t nOut_total: \t4\n",
            "\tProcessing: single_antitop_wtchan\n",
            "\t\t nIn: 48,\t nOut: \t2\n",
            "\t\t nIn_total: 48,\t nOut_total: \t2\n",
            "Processing Higgs ($m_H$ = 125 GeV) samples\n",
            "\tProcessing: ggH125_ZZ4lep\n",
            "\t\t nIn: 104555,\t nOut: \t89952\n",
            "\t\t nIn: 60161,\t nOut: \t51891\n",
            "\t\t nIn_total: 164716,\t nOut_total: \t141843\n",
            "\tProcessing: VBFH125_ZZ4lep\n",
            "\t\t nIn: 102038,\t nOut: \t86170\n",
            "\t\t nIn: 89088,\t nOut: \t75232\n",
            "\t\t nIn_total: 191126,\t nOut_total: \t161402\n",
            "\tProcessing: WH125_ZZ4lep\n",
            "\t\t nIn: 15379,\t nOut: \t7739\n",
            "\t\t nIn_total: 15379,\t nOut_total: \t7739\n",
            "\tProcessing: ZH125_ZZ4lep\n",
            "\t\t nIn: 14485,\t nOut: \t9302\n",
            "\t\t nIn_total: 14485,\t nOut_total: \t9302\n",
            "Number of input events: 953280\n",
            "Number of output events: 778486\n"
          ]
        }
      ]
    },
    {
      "cell_type": "markdown",
      "source": [
        "**Plotting**\n",
        "\n",
        "If you only want to make a change in plotting: Cell -> Run All Below\n",
        "\n",
        "Define function to plot the data"
      ],
      "metadata": {
        "id": "ICmwvtq3tZex"
      }
    },
    {
      "cell_type": "code",
      "source": [
        "def plot_mH(data):\n",
        "\n",
        "    xmin = 80 #GeV\n",
        "    xmax = 176  #GeV\n",
        "    step_size = 8 #Gev/bin\n",
        "\n",
        "    bin_edges = np.arange(start=xmin, # The interval includes this value\n",
        "                     stop=xmax+step_size, # The interval doesn't include this value\n",
        "                     step=step_size ) # Spacing between values\n",
        "    bin_centres = np.arange(start=xmin+step_size/2, # The interval includes this value\n",
        "                            stop=xmax+step_size/2, # The interval doesn't include this value\n",
        "                            step=step_size ) # Spacing between values\n",
        "\n",
        "    data_x,_ = np.histogram(data['data']['mllll'], \n",
        "                            bins=bin_edges ) # histogram the data\n",
        "    data_x_errors = np.sqrt( data_x ) # statistical error on the data\n",
        "    data_mass_errors = step_size/2\n",
        "\n",
        "    signal_x = data[r'Higgs ($m_H$ = 125 GeV)']['mllll'] # histogram the signal\n",
        "    signal_weights = data[r'Higgs ($m_H$ = 125 GeV)'].totalWeight # get the weights of the signal events\n",
        "    signal_color = samples[r'Higgs ($m_H$ = 125 GeV)']['color'] # get the colour for the signal bar\n",
        "\n",
        "\n",
        "    mc_x = [] # define list to hold the Monte Carlo histogram entries\n",
        "    mc_weights = [] # define list to hold the Monte Carlo weights\n",
        "    mc_colors = [] # define list to hold the colors of the Monte Carlo bars\n",
        "    mc_labels = [] # define list to hold the legend labels of the Monte Carlo bars\n",
        "\n",
        "    for s in samples: # loop over samples\n",
        "        if s not in ['data', r'Higgs ($m_H$ = 125 GeV)']: # if not data nor signal\n",
        "            mc_x.append( data[s]['mllll'] ) # append to the list of Monte Carlo histogram entries\n",
        "            mc_weights.append( data[s].totalWeight ) # append to the list of Monte Carlo weights\n",
        "            mc_colors.append( samples[s]['color'] ) # append to the list of Monte Carlo bar colors\n",
        "            mc_labels.append( s ) # append to the list of Monte Carlo legend labels\n",
        "\n",
        "\n",
        "    # *************\n",
        "    # Main plot \n",
        "    # *************\n",
        "    #plt.axes([0.1,0.3,0.85,0.65]) # left, bottom, width, height\n",
        "    main_axes = plt.gca() # get current axes\n",
        "    \n",
        "    # plot the data points\n",
        "    main_axes.errorbar(x=bin_centres, xerr=data_mass_errors, y=data_x, yerr=data_x_errors,\n",
        "                       fmt='ko', # 'k' means black and 'o' is for circles \n",
        "                       label='Data') \n",
        "    \n",
        "    # plot the Monte Carlo bars\n",
        "    mc_heights = main_axes.hist(mc_x, bins=bin_edges, \n",
        "                                weights=mc_weights, stacked=True, \n",
        "                                color=mc_colors, label=mc_labels )\n",
        "    \n",
        "    mc_x_tot = mc_heights[0][-1] # stacked background MC y-axis value\n",
        " \n",
        "    \n",
        "    # calculate MC statistical uncertainty: sqrt(sum w^2)\n",
        "    mc_x_err = np.sqrt(np.histogram(np.hstack(mc_x), bins=bin_edges, weights=np.hstack(mc_weights)**2)[0])\n",
        "\n",
        "    #Calculate the Data/Pred. ratio, taking the closest value of the data to the MC value\n",
        "\n",
        "    data_pred=(data_x-data_x_errors)/mc_x_tot\n",
        "    #errormc_x_tot=np.sqrt(mc_x_err) #statistical error in MC data\n",
        "    #data_pred_errors=data_pred*np.sqrt(((data_x-data_x_errors)/data_x_errors)**2+(mc_x_tot/mc_x_err)**2)   \n",
        "    data_pred_errors=np.sqrt(data_pred) #stat. unc.\n",
        "\n",
        "    # plot the signal bar\n",
        "    main_axes.hist(signal_x, bins=bin_edges, bottom=mc_x_tot, \n",
        "                   weights=signal_weights, color=signal_color,\n",
        "                   label=r'Higgs ($m_H$ = 125 GeV)')\n",
        "    \n",
        "    # plot the statistical uncertainty\n",
        "    main_axes.bar(bin_centres, # x\n",
        "                  2*mc_x_err, # heights\n",
        "                  alpha=0.5, # half transparency\n",
        "                  bottom=mc_x_tot-mc_x_err,\n",
        "                  color='none', hatch=\"////\", width=step_size, label='Stat. unc.' )\n",
        "\n",
        "    # set the x-limit of the main axes\n",
        "    main_axes.set_xlim( left=xmin, right=xmax ) \n",
        "    \n",
        "    # separation of x axis minor ticks\n",
        "    main_axes.xaxis.set_minor_locator( AutoMinorLocator() ) \n",
        "    \n",
        "    # set the axis tick parameters for the main axes\n",
        "    main_axes.tick_params(which='both', # ticks on both x and y axes\n",
        "                          direction='in', # Put ticks inside and outside the axes\n",
        "                          top=True, # draw ticks on the top axis\n",
        "                          right=True ) # draw ticks on right axis\n",
        "    \n",
        "    # x-axis label\n",
        "    #main_axes.set_xlabel(r'$\\mathrm{m_{T}(4l)}$ [GeV]',\n",
        "    #                    fontsize=13, x=1, horizontalalignment='right' ) \n",
        "    \n",
        "    main_axes.set_ylabel('Number of events/bin',\n",
        "                         y=1, horizontalalignment='right')\n",
        "\n",
        "    # set y-axis limits for main axes\n",
        "    main_axes.set_ylim( bottom=0, top=np.amax(data_x)*1.5)\n",
        "    \n",
        "    # add minor ticks on y-axis for main axes\n",
        "    main_axes.yaxis.set_minor_locator( AutoMinorLocator() )\n",
        "    \n",
        "    # avoid displaying y=0 on the main axes\n",
        "    main_axes.yaxis.get_major_ticks()[0].set_visible(False)\n",
        "\n",
        "    # Add text 'ATLAS Open Data' on plot\n",
        "    plt.text(0.05, # x\n",
        "             0.93, # y\n",
        "             'ATLAS Open Data', # text\n",
        "             transform=main_axes.transAxes, # coordinate system used is that of main_axes\n",
        "             fontsize=13 ) \n",
        "    \n",
        "    # Add text 'for education' on plot\n",
        "    \"\"\"\n",
        "    plt.text(0.05, # x\n",
        "             0.76, # y\n",
        "             'Reproduced it by: B. Castiblanco', # text\n",
        "             transform=main_axes.transAxes, # coordinate system used is that of main_axes\n",
        "             style='italic',\n",
        "             fontsize=8 ) \n",
        "    \"\"\"\n",
        "  \n",
        "    # Add energy and luminosity\n",
        "    lumi_used = str(lumi*fraction) # luminosity to write on the plot\n",
        "    plt.text(0.05, # x\n",
        "             0.865, # y\n",
        "             '$\\sqrt{s}$=13 TeV,$\\int$L dt = '+lumi_used+' fb$^{-1}$', # text\n",
        "             transform=main_axes.transAxes ) # coordinate system used is that of main_axes\n",
        "    \n",
        "    # Add a label for the analysis carried out\n",
        "    plt.text(0.05, # x\n",
        "             0.805, # y\n",
        "             r'$H \\rightarrow ZZ^* \\rightarrow 4\\ell$', # text \n",
        "             transform=main_axes.transAxes ) # coordinate system used is that of main_axes\n",
        "\n",
        "    # draw the legend\n",
        "    main_axes.legend( frameon=False ) # no box around the legend\n",
        "\n",
        "    # *************\n",
        "    # Data-Bkg plot \n",
        "    # *************\n",
        "    plt.axes([0.125,-0.1,0.775,0.225]) # left, bottom, width, height\n",
        "    sub_axes = plt.gca() # get the current axes\n",
        "\n",
        "    # set the y axis to be symmetric about Data-Background=0\n",
        "    sub_axes.yaxis.set_major_locator( MaxNLocator(nbins='auto', \n",
        "                                                  symmetric=True) )\n",
        "    \n",
        "    sub_axes.set_ylim(bottom=0, top=np.amax(data_pred)*1.5)\n",
        "\n",
        "    # plot Data-Background\n",
        "    sub_axes.errorbar(x=bin_centres, xerr=data_mass_errors, y=data_pred, yerr=data_pred_errors,\n",
        "                      fmt='ko' ) # 'k' means black and 'o' means circles\n",
        "\n",
        "    sub_axes.axhline(1.0,ls='--',c='b')\n",
        "    sub_axes.axvline(125.0,ls='--',c='r')                  \n",
        "\n",
        "    # set the x-axis limits on the sub axes\n",
        "    sub_axes.set_xlim( left=xmin, right=xmax )\n",
        "\n",
        "    # separation of x-axis minor ticks\n",
        "    sub_axes.xaxis.set_minor_locator( AutoMinorLocator() )\n",
        "    sub_axes.set_xticks([80,90,100,110,120,130,140,150,160,170]) \n",
        "    \n",
        "    # x-axis label\n",
        "    sub_axes.set_xlabel(r'$\\mathrm{m_{4\\ell}}$ [GeV]',\n",
        "                        x=1, horizontalalignment='right', \n",
        "                        fontsize=13 )\n",
        "    \n",
        "    # set the tick parameters for the sub axes\n",
        "    sub_axes.tick_params(which='both', # ticks on both x and y axes\n",
        "                         direction='in', # Put ticks inside and outside the axes\n",
        "                         top=True, # draw ticks on the top axis\n",
        "                         right=True ) # draw ticks on right axis\n",
        "\n",
        "    # separation of y-axis minor ticks\n",
        "    sub_axes.yaxis.set_minor_locator( AutoMinorLocator() )\n",
        "    sub_axes.set_yticks([-1.0,0,1.0,2.0])\n",
        "\n",
        "    # y-axis label on the sub axes\n",
        "    sub_axes.set_ylabel( 'Data/Pred' )\n",
        "\n",
        "    # Generic features for both plots\n",
        "    main_axes.yaxis.set_label_coords( -0.09, 1 ) # x,y coordinates of the y-axis label on the main axes\n",
        "    sub_axes.yaxis.set_label_coords( -0.09, 0.5 ) # x,y coordinates of the y-axis label on the sub axes\n",
        "\n",
        "    plt.savefig(\"m_H.png\",bbox_inches='tight')\n",
        "\n",
        "    return"
      ],
      "metadata": {
        "id": "kiMifFgGtc4E"
      },
      "execution_count": 18,
      "outputs": []
    },
    {
      "cell_type": "markdown",
      "source": [
        "Finally, plotting the transversed invariant mass for the 4 final leptons:"
      ],
      "metadata": {
        "id": "lowfK5tHtfAH"
      }
    },
    {
      "cell_type": "code",
      "source": [
        "plot_mH(data)"
      ],
      "metadata": {
        "colab": {
          "base_uri": "https://localhost:8080/",
          "height": 402
        },
        "id": "Nezoic7g5VPb",
        "outputId": "0ab4223b-eb1d-4f26-a075-fd9c96d09ecd"
      },
      "execution_count": 19,
      "outputs": [
        {
          "output_type": "stream",
          "name": "stderr",
          "text": [
            "/usr/local/lib/python3.7/dist-packages/numpy/core/_asarray.py:83: VisibleDeprecationWarning: Creating an ndarray from ragged nested sequences (which is a list-or-tuple of lists-or-tuples-or ndarrays with different lengths or shapes) is deprecated. If you meant to do this, you must specify 'dtype=object' when creating the ndarray\n",
            "  return array(a, dtype, copy=False, order=order)\n"
          ]
        },
        {
          "output_type": "display_data",
          "data": {
            "image/png": "[encoded data removed]",
            "text/plain": [
              "<Figure size 432x288 with 2 Axes>"
            ]
          },
          "metadata": {
            "needs_background": "light"
          }
        }
      ]
    },
    {
      "cell_type": "code",
      "source": [
        "def plot_leadpt(data):\n",
        "\n",
        "    xmin = 0 \n",
        "    xmax = 400  \n",
        "    step_size = 40\n",
        "\n",
        "    bin_edges = np.arange(start=xmin, # The interval includes this value\n",
        "                     stop=xmax+step_size, # The interval doesn't include this value\n",
        "                     step=step_size ) # Spacing between values\n",
        "    bin_centres = np.arange(start=xmin+step_size/2, # The interval includes this value\n",
        "                            stop=xmax+step_size/2, # The interval doesn't include this value\n",
        "                            step=step_size ) # Spacing between values\n",
        "\n",
        "    data_x,_ = np.histogram(data['data']['leadlepton_pt'], \n",
        "                            bins=bin_edges ) # histogram the data\n",
        "    data_x_errors = np.sqrt( data_x ) # statistical error on the data\n",
        "    data_mass_errors = step_size/2\n",
        "\n",
        "    mc_x = [] # define list to hold the Monte Carlo histogram entries\n",
        "    mc_weights = [] # define list to hold the Monte Carlo weights\n",
        "    mc_colors = [] # define list to hold the colors of the Monte Carlo bars\n",
        "    mc_labels = [] # define list to hold the legend labels of the Monte Carlo bars\n",
        "\n",
        "    for s in samples: # loop over samples\n",
        "        if s not in ['data']: # if not data nor signal\n",
        "            mc_x.append( data[s]['leadlepton_pt']) # append to the list of Monte Carlo histogram entries\n",
        "            mc_weights.append( data[s].totalWeight ) # append to the list of Monte Carlo weights\n",
        "            mc_colors.append( samples[s]['color'] ) # append to the list of Monte Carlo bar colors\n",
        "            mc_labels.append( s ) # append to the list of Monte Carlo legend labels\n",
        "\n",
        "\n",
        "    # *************\n",
        "    # Main plot \n",
        "    # *************\n",
        "\n",
        "    main_axes = plt.gca() # get current axes\n",
        "    \n",
        "    # plot the data points\n",
        "    main_axes.errorbar(x=bin_centres, xerr=data_mass_errors, y=data_x, yerr=data_x_errors,\n",
        "                       fmt='ko', # 'k' means black and 'o' is for circles \n",
        "                       label='Data') \n",
        "    \n",
        "    # plot the Monte Carlo bars\n",
        "    mc_heights = main_axes.hist(mc_x, bins=bin_edges, \n",
        "                                weights=mc_weights, stacked=True, \n",
        "                                color=mc_colors, label=mc_labels )\n",
        "    \n",
        "    mc_x_tot = mc_heights[0][-1] # stacked background MC y-axis value\n",
        " \n",
        "    \n",
        "    # calculate MC statistical uncertainty: sqrt(sum w^2)\n",
        "    mc_x_err = np.sqrt(np.histogram(np.hstack(mc_x), bins=bin_edges, weights=np.hstack(mc_weights)**2)[0])\n",
        "\n",
        "    \n",
        "    # plot the statistical uncertainty\n",
        "    main_axes.bar(bin_centres, # x\n",
        "                  2*mc_x_err, # heights\n",
        "                  alpha=0.5, # half transparency\n",
        "                  bottom=mc_x_tot-mc_x_err,\n",
        "                  color='none', hatch=\"////\", width=step_size, label='Stat. unc.' )\n",
        "\n",
        "    # set the x-limit of the main axes\n",
        "    main_axes.set_xlim( left=xmin, right=xmax ) \n",
        "    \n",
        "    # separation of x axis minor ticks\n",
        "    main_axes.xaxis.set_minor_locator( AutoMinorLocator() ) \n",
        "    \n",
        "    # set the axis tick parameters for the main axes\n",
        "    main_axes.tick_params(which='both', # ticks on both x and y axes\n",
        "                          direction='in', # Put ticks inside and outside the axes\n",
        "                          top=True, # draw ticks on the top axis\n",
        "                          right=True ) # draw ticks on right axis\n",
        "    \n",
        "    # x-axis label\n",
        "    main_axes.set_xlabel(r'Lead $p_{T}$',\n",
        "                        fontsize=13, x=1, horizontalalignment='right' ) \n",
        "    \n",
        "    main_axes.set_ylabel('Number of leptons/bin',\n",
        "                         y=1, horizontalalignment='right')\n",
        "\n",
        "    # set y-axis limits for main axes\n",
        "    main_axes.set_ylim( bottom=0, top=np.amax(data_x)*1.6)\n",
        "    \n",
        "    # add minor ticks on y-axis for main axes\n",
        "    main_axes.yaxis.set_minor_locator( AutoMinorLocator() )\n",
        "    \n",
        "    # avoid displaying y=0 on the main axes\n",
        "    main_axes.yaxis.get_major_ticks()[0].set_visible(False)\n",
        "\n",
        "    # Add text 'ATLAS Open Data' on plot\n",
        "    plt.text(0.05, # x\n",
        "             0.93, # y\n",
        "             'ATLAS Open Data', # text\n",
        "             transform=main_axes.transAxes, # coordinate system used is that of main_axes\n",
        "             fontsize=13 ) \n",
        "    \n",
        "  \n",
        "    # Add energy and luminosity\n",
        "    lumi_used = str(lumi*fraction) # luminosity to write on the plot\n",
        "    plt.text(0.05, # x\n",
        "             0.865, # y\n",
        "             '$\\sqrt{s}$=13 TeV,$\\int$L dt = '+lumi_used+' fb$^{-1}$', # text\n",
        "             transform=main_axes.transAxes ) # coordinate system used is that of main_axes\n",
        "    \n",
        "    # Add a label for the analysis carried out\n",
        "    plt.text(0.05, # x\n",
        "             0.805, # y\n",
        "             r'$H \\rightarrow ZZ^* \\rightarrow 4\\ell$', # text \n",
        "             transform=main_axes.transAxes ) # coordinate system used is that of main_axes\n",
        "\n",
        "    # draw the legend\n",
        "    main_axes.legend( frameon=False ) # no box around the legend\n",
        "\n",
        "    plt.savefig(\"leadlep_pt.png\",bbox_inches='tight')\n",
        "\n",
        "    return"
      ],
      "metadata": {
        "id": "Ugf0lQ-cSqm_"
      },
      "execution_count": 20,
      "outputs": []
    },
    {
      "cell_type": "code",
      "source": [
        "plot_leadpt(data)"
      ],
      "metadata": {
        "colab": {
          "base_uri": "https://localhost:8080/",
          "height": 338
        },
        "id": "M9AemWQEVN65",
        "outputId": "d5b7369a-2cd5-4e09-c1d5-73382ff44c96"
      },
      "execution_count": 21,
      "outputs": [
        {
          "output_type": "stream",
          "name": "stderr",
          "text": [
            "/usr/local/lib/python3.7/dist-packages/numpy/core/_asarray.py:83: VisibleDeprecationWarning: Creating an ndarray from ragged nested sequences (which is a list-or-tuple of lists-or-tuples-or ndarrays with different lengths or shapes) is deprecated. If you meant to do this, you must specify 'dtype=object' when creating the ndarray\n",
            "  return array(a, dtype, copy=False, order=order)\n"
          ]
        },
        {
          "output_type": "display_data",
          "data": {
            "image/png": "[encoded data removed]",
            "text/plain": [
              "<Figure size 432x288 with 1 Axes>"
            ]
          },
          "metadata": {
            "needs_background": "light"
          }
        }
      ]
    },
    {
      "cell_type": "code",
      "source": [
        "def plot_number_leptons(data):\n",
        "\n",
        "    xmin = 0 \n",
        "    xmax = 10  \n",
        "    step_size = 1\n",
        "\n",
        "    bin_edges = np.arange(start=xmin, # The interval includes this value\n",
        "                     stop=xmax+step_size, # The interval doesn't include this value\n",
        "                     step=step_size ) # Spacing between values\n",
        "    bin_centres = np.arange(start=xmin+step_size/2, # The interval includes this value\n",
        "                            stop=xmax+step_size/2, # The interval doesn't include this value\n",
        "                            step=step_size ) # Spacing between values\n",
        "\n",
        "    data_x,_ = np.histogram(data['data']['number_leptons'], \n",
        "                            bins=bin_edges ) # histogram the data\n",
        "    data_x_errors = np.sqrt( data_x ) # statistical error on the data\n",
        "    data_mass_errors = step_size/2\n",
        "\n",
        "    mc_x = [] # define list to hold the Monte Carlo histogram entries\n",
        "    mc_weights = [] # define list to hold the Monte Carlo weights\n",
        "    mc_colors = [] # define list to hold the colors of the Monte Carlo bars\n",
        "    mc_labels = [] # define list to hold the legend labels of the Monte Carlo bars\n",
        "\n",
        "    for s in samples: # loop over samples\n",
        "        if s not in ['data']: # if not data nor signal\n",
        "            mc_x.append( data[s]['number_leptons']) # append to the list of Monte Carlo histogram entries\n",
        "            mc_weights.append( data[s].totalWeight ) # append to the list of Monte Carlo weights\n",
        "            mc_colors.append( samples[s]['color'] ) # append to the list of Monte Carlo bar colors\n",
        "            mc_labels.append( s ) # append to the list of Monte Carlo legend labels\n",
        "\n",
        "\n",
        "    # *************\n",
        "    # Main plot \n",
        "    # *************\n",
        "\n",
        "    main_axes = plt.gca() # get current axes\n",
        "    \n",
        "    # plot the data points\n",
        "    main_axes.errorbar(x=bin_centres, xerr=data_mass_errors, y=data_x, yerr=data_x_errors,\n",
        "                       fmt='ko', # 'k' means black and 'o' is for circles \n",
        "                       label='Data') \n",
        "    \n",
        "    # plot the Monte Carlo bars\n",
        "    mc_heights = main_axes.hist(mc_x, bins=bin_edges, \n",
        "                                weights=mc_weights, stacked=True, \n",
        "                                color=mc_colors, label=mc_labels )\n",
        "    \n",
        "    mc_x_tot = mc_heights[0][-1] # stacked background MC y-axis value\n",
        " \n",
        "    \n",
        "    # calculate MC statistical uncertainty: sqrt(sum w^2)\n",
        "    mc_x_err = np.sqrt(np.histogram(np.hstack(mc_x), bins=bin_edges, weights=np.hstack(mc_weights)**2)[0])\n",
        "\n",
        "    \n",
        "    # plot the statistical uncertainty\n",
        "    main_axes.bar(bin_centres, # x\n",
        "                  2*mc_x_err, # heights\n",
        "                  alpha=0.5, # half transparency\n",
        "                  bottom=mc_x_tot-mc_x_err,\n",
        "                  color='none', hatch=\"////\", width=step_size, label='Stat. unc.' )\n",
        "\n",
        "    # set the x-limit of the main axes\n",
        "    main_axes.set_xlim( left=xmin, right=xmax ) \n",
        "    \n",
        "    # separation of x axis minor ticks\n",
        "    main_axes.xaxis.set_minor_locator( AutoMinorLocator() ) \n",
        "    \n",
        "    # set the axis tick parameters for the main axes\n",
        "    main_axes.tick_params(which='both', # ticks on both x and y axes\n",
        "                          direction='in', # Put ticks inside and outside the axes\n",
        "                          top=True, # draw ticks on the top axis\n",
        "                          right=True ) # draw ticks on right axis\n",
        "    \n",
        "    # x-axis label\n",
        "    main_axes.set_xlabel(r'Number of leptons',\n",
        "                        fontsize=13, x=1, horizontalalignment='right' ) \n",
        "    \n",
        "    main_axes.set_ylabel('Number of events/bin',\n",
        "                         y=1, horizontalalignment='right')\n",
        "\n",
        "    # set y-axis limits for main axes\n",
        "    main_axes.set_ylim( bottom=0, top=np.amax(data_x)*1.6)\n",
        "    \n",
        "    # add minor ticks on y-axis for main axes\n",
        "    main_axes.yaxis.set_minor_locator( AutoMinorLocator() )\n",
        "    \n",
        "    # avoid displaying y=0 on the main axes\n",
        "    main_axes.yaxis.get_major_ticks()[0].set_visible(False)\n",
        "\n",
        "    # Add text 'ATLAS Open Data' on plot\n",
        "    plt.text(0.05, # x\n",
        "             0.93, # y\n",
        "             'ATLAS Open Data', # text\n",
        "             transform=main_axes.transAxes, # coordinate system used is that of main_axes\n",
        "             fontsize=13 ) \n",
        "    \n",
        "  \n",
        "    # Add energy and luminosity\n",
        "    lumi_used = str(lumi*fraction) # luminosity to write on the plot\n",
        "    plt.text(0.05, # x\n",
        "             0.865, # y\n",
        "             '$\\sqrt{s}$=13 TeV,$\\int$L dt = '+lumi_used+' fb$^{-1}$', # text\n",
        "             transform=main_axes.transAxes ) # coordinate system used is that of main_axes\n",
        "    \n",
        "    # Add a label for the analysis carried out\n",
        "    plt.text(0.05, # x\n",
        "             0.805, # y\n",
        "             r'$H \\rightarrow ZZ^* \\rightarrow 4\\ell$', # text \n",
        "             transform=main_axes.transAxes ) # coordinate system used is that of main_axes\n",
        "\n",
        "    # draw the legend\n",
        "    main_axes.legend( frameon=False ) # no box around the legend\n",
        "\n",
        "    plt.savefig(\"number_leptons.png\",bbox_inches='tight')\n",
        "\n",
        "    return"
      ],
      "metadata": {
        "id": "vTGMVlk6amYE"
      },
      "execution_count": 22,
      "outputs": []
    },
    {
      "cell_type": "code",
      "source": [
        "plot_number_leptons(data)"
      ],
      "metadata": {
        "colab": {
          "base_uri": "https://localhost:8080/",
          "height": 334
        },
        "id": "Rilpz6Lea9ZG",
        "outputId": "e4ead03f-e0aa-485b-fd13-2ebba748d013"
      },
      "execution_count": 23,
      "outputs": [
        {
          "output_type": "stream",
          "name": "stderr",
          "text": [
            "/usr/local/lib/python3.7/dist-packages/numpy/core/_asarray.py:83: VisibleDeprecationWarning: Creating an ndarray from ragged nested sequences (which is a list-or-tuple of lists-or-tuples-or ndarrays with different lengths or shapes) is deprecated. If you meant to do this, you must specify 'dtype=object' when creating the ndarray\n",
            "  return array(a, dtype, copy=False, order=order)\n"
          ]
        },
        {
          "output_type": "display_data",
          "data": {
            "image/png": "[encoded data removed]",
            "text/plain": [
              "<Figure size 432x288 with 1 Axes>"
            ]
          },
          "metadata": {
            "needs_background": "light"
          }
        }
      ]
    },
    {
      "cell_type": "code",
      "source": [
        "def plot_number_jets(data):\n",
        "\n",
        "    xmin = 0 \n",
        "    xmax = 5  \n",
        "    step_size = 1\n",
        "\n",
        "    bin_edges = np.arange(start=xmin, # The interval includes this value\n",
        "                     stop=xmax+step_size, # The interval doesn't include this value\n",
        "                     step=step_size ) # Spacing between values\n",
        "    bin_centres = np.arange(start=xmin+step_size/2, # The interval includes this value\n",
        "                            stop=xmax+step_size/2, # The interval doesn't include this value\n",
        "                            step=step_size ) # Spacing between values\n",
        "\n",
        "    data_x,_ = np.histogram(data['data']['number_jets'], \n",
        "                            bins=bin_edges ) # histogram the data\n",
        "    data_x_errors = np.sqrt( data_x ) # statistical error on the data\n",
        "    data_mass_errors = step_size/2\n",
        "\n",
        "    mc_x = [] # define list to hold the Monte Carlo histogram entries\n",
        "    mc_weights = [] # define list to hold the Monte Carlo weights\n",
        "    mc_colors = [] # define list to hold the colors of the Monte Carlo bars\n",
        "    mc_labels = [] # define list to hold the legend labels of the Monte Carlo bars\n",
        "\n",
        "    for s in samples: # loop over samples\n",
        "        if s not in ['data']: # if not data nor signal\n",
        "            mc_x.append( data[s]['number_jets']) # append to the list of Monte Carlo histogram entries\n",
        "            mc_weights.append( data[s].totalWeight ) # append to the list of Monte Carlo weights\n",
        "            mc_colors.append( samples[s]['color'] ) # append to the list of Monte Carlo bar colors\n",
        "            mc_labels.append( s ) # append to the list of Monte Carlo legend labels\n",
        "\n",
        "\n",
        "    # *************\n",
        "    # Main plot \n",
        "    # *************\n",
        "\n",
        "    main_axes = plt.gca() # get current axes\n",
        "    \n",
        "    # plot the data points\n",
        "    main_axes.errorbar(x=bin_centres, xerr=data_mass_errors, y=data_x, yerr=data_x_errors,\n",
        "                       fmt='ko', # 'k' means black and 'o' is for circles \n",
        "                       label='Data') \n",
        "    \n",
        "    # plot the Monte Carlo bars\n",
        "    mc_heights = main_axes.hist(mc_x, bins=bin_edges, \n",
        "                                weights=mc_weights, stacked=True, \n",
        "                                color=mc_colors, label=mc_labels )\n",
        "    \n",
        "    mc_x_tot = mc_heights[0][-1] # stacked background MC y-axis value\n",
        " \n",
        "    \n",
        "    # calculate MC statistical uncertainty: sqrt(sum w^2)\n",
        "    mc_x_err = np.sqrt(np.histogram(np.hstack(mc_x), bins=bin_edges, weights=np.hstack(mc_weights)**2)[0])\n",
        "\n",
        "    \n",
        "    # plot the statistical uncertainty\n",
        "    main_axes.bar(bin_centres, # x\n",
        "                  2*mc_x_err, # heights\n",
        "                  alpha=0.5, # half transparency\n",
        "                  bottom=mc_x_tot-mc_x_err,\n",
        "                  color='none', hatch=\"////\", width=step_size, label='Stat. unc.' )\n",
        "\n",
        "    # set the x-limit of the main axes\n",
        "    main_axes.set_xlim( left=xmin, right=xmax ) \n",
        "    \n",
        "    # separation of x axis minor ticks\n",
        "    main_axes.xaxis.set_minor_locator( AutoMinorLocator() ) \n",
        "    \n",
        "    # set the axis tick parameters for the main axes\n",
        "    main_axes.tick_params(which='both', # ticks on both x and y axes\n",
        "                          direction='in', # Put ticks inside and outside the axes\n",
        "                          top=True, # draw ticks on the top axis\n",
        "                          right=True ) # draw ticks on right axis\n",
        "    \n",
        "    # x-axis label\n",
        "    main_axes.set_xlabel(r'Jets multiplicity',\n",
        "                        fontsize=13, x=1, horizontalalignment='right' ) \n",
        "    \n",
        "    main_axes.set_ylabel('Number of events/bin',\n",
        "                         y=1, horizontalalignment='right')\n",
        "\n",
        "    # set y-axis limits for main axes\n",
        "    main_axes.set_ylim( bottom=0, top=np.amax(data_x)*1.6)\n",
        "    \n",
        "    # add minor ticks on y-axis for main axes\n",
        "    main_axes.yaxis.set_minor_locator( AutoMinorLocator() )\n",
        "    \n",
        "    # avoid displaying y=0 on the main axes\n",
        "    main_axes.yaxis.get_major_ticks()[0].set_visible(False)\n",
        "\n",
        "    # Add text 'ATLAS Open Data' on plot\n",
        "    plt.text(0.05, # x\n",
        "             0.93, # y\n",
        "             'ATLAS Open Data', # text\n",
        "             transform=main_axes.transAxes, # coordinate system used is that of main_axes\n",
        "             fontsize=13 ) \n",
        "    \n",
        "  \n",
        "    # Add energy and luminosity\n",
        "    lumi_used = str(lumi*fraction) # luminosity to write on the plot\n",
        "    plt.text(0.05, # x\n",
        "             0.865, # y\n",
        "             '$\\sqrt{s}$=13 TeV,$\\int$L dt = '+lumi_used+' fb$^{-1}$', # text\n",
        "             transform=main_axes.transAxes ) # coordinate system used is that of main_axes\n",
        "    \n",
        "    # Add a label for the analysis carried out\n",
        "    plt.text(0.05, # x\n",
        "             0.805, # y\n",
        "             r'$H \\rightarrow ZZ^* \\rightarrow 4\\ell$', # text \n",
        "             transform=main_axes.transAxes ) # coordinate system used is that of main_axes\n",
        "\n",
        "    # draw the legend\n",
        "    main_axes.legend( frameon=False ) # no box around the legend\n",
        "\n",
        "    plt.savefig(\"number_jets.png\",bbox_inches='tight')\n",
        "\n",
        "    return"
      ],
      "metadata": {
        "id": "dkbtU3XmbG2F"
      },
      "execution_count": 24,
      "outputs": []
    },
    {
      "cell_type": "code",
      "source": [
        "plot_number_jets(data)"
      ],
      "metadata": {
        "colab": {
          "base_uri": "https://localhost:8080/",
          "height": 334
        },
        "id": "_8Q1NDWHbNBV",
        "outputId": "db346b1a-fb9c-4a14-e63a-ac31240287c0"
      },
      "execution_count": 25,
      "outputs": [
        {
          "output_type": "stream",
          "name": "stderr",
          "text": [
            "/usr/local/lib/python3.7/dist-packages/numpy/core/_asarray.py:83: VisibleDeprecationWarning: Creating an ndarray from ragged nested sequences (which is a list-or-tuple of lists-or-tuples-or ndarrays with different lengths or shapes) is deprecated. If you meant to do this, you must specify 'dtype=object' when creating the ndarray\n",
            "  return array(a, dtype, copy=False, order=order)\n"
          ]
        },
        {
          "output_type": "display_data",
          "data": {
            "image/png": "[encoded data removed]",
            "text/plain": [
              "<Figure size 432x288 with 1 Axes>"
            ]
          },
          "metadata": {
            "needs_background": "light"
          }
        }
      ]
    },
    {
      "cell_type": "markdown",
      "source": [
        "Calculation of some numbers:\n",
        "\n",
        "\n",
        "\n",
        "*   Number of events selected from the data: \n",
        "\n",
        "            Data = 365 events\n",
        "\n",
        "\n",
        "*   Number of expected signal events:\n",
        "\n",
        "            S = 385706\n",
        "\n",
        "\n",
        "\n",
        "*   Number of MC Background events:\n",
        "\n",
        "           B = 566742\n"
      ],
      "metadata": {
        "id": "snL7wiwGvs4H"
      }
    },
    {
      "cell_type": "code",
      "source": [
        "D=365\n",
        "S=385706\n",
        "B=566742\n",
        "\n",
        "#Data/MC ratio:\n",
        "D_B=D/B\n",
        "\n",
        "#The purity of the signal:\n",
        "P=S/(S+B)\n",
        "\n",
        "#Approximate significance of our signal (for measurements):\n",
        "a1=S/math.sqrt(S+B)\n",
        "\n",
        "#Approximate significance of our signal (for searches):\n",
        "a2=S/math.sqrt(B)\n",
        "\n",
        "print(\"Data/MC ratio:\",D_B)\n",
        "print(\"Purity of the signal:\",P)\n",
        "print(\"Approx. significance of our signal for measurements:\",a1)\n",
        "print(\"Approx. significance of our signal for searches:\",a2)"
      ],
      "metadata": {
        "colab": {
          "base_uri": "https://localhost:8080/"
        },
        "id": "MU0WhZiozgBg",
        "outputId": "d770287b-298f-4420-c52e-f0bc469717fa"
      },
      "execution_count": 26,
      "outputs": [
        {
          "output_type": "stream",
          "name": "stdout",
          "text": [
            "Data/MC ratio: 0.0006440320286832457\n",
            "Purity of the signal: 0.4049627906195404\n",
            "Approx. significance of our signal for measurements: 395.21712781545847\n",
            "Approx. significance of our signal for searches: 512.3464077278749\n"
          ]
        }
      ]
    },
    {
      "cell_type": "code",
      "source": [
        ""
      ],
      "metadata": {
        "id": "F02wG8mxz_-9"
      },
      "execution_count": 26,
      "outputs": []
    }
  ]
}