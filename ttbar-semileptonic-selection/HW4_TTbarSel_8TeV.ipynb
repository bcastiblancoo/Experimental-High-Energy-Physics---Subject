{
  "nbformat": 4,
  "nbformat_minor": 0,
  "metadata": {
    "colab": {
      "name": "HW4-TTbarSel_8TeV.ipynb",
      "provenance": [],
      "authorship_tag": "ABX9TyMe4y1FsdlzWOcwmKmuyaBe",
      "include_colab_link": true
    },
    "kernelspec": {
      "name": "python3",
      "display_name": "Python 3"
    },
    "language_info": {
      "name": "python"
    }
  },
  "cells": [
    {
      "cell_type": "markdown",
      "metadata": {
        "id": "view-in-github",
        "colab_type": "text"
      },
      "source": [
        "<a href=\"https://colab.research.google.com/github/bcastiblancoo/Experimental-High-Energy-Physics---Subject/blob/main/ttbar-semileptonic-selection/HW4_TTbarSel_8TeV.ipynb\" target=\"_parent\"><img src=\"https://colab.research.google.com/assets/colab-badge.svg\" alt=\"Open In Colab\"/></a>"
      ]
    },
    {
      "cell_type": "code",
      "execution_count": 1,
      "metadata": {
        "colab": {
          "base_uri": "https://localhost:8080/"
        },
        "id": "pGK3htCeD97I",
        "outputId": "c499b620-4b34-4705-cbb7-59be3b3fadd3"
      },
      "outputs": [
        {
          "output_type": "stream",
          "name": "stdout",
          "text": [
            "Reading package lists... Done\n",
            "Building dependency tree       \n",
            "Reading state information... Done\n",
            "libxext-dev is already the newest version (2:1.3.3-1).\n",
            "libxext-dev set to manually installed.\n",
            "libxft-dev is already the newest version (2.3.2-1).\n",
            "cmake is already the newest version (3.10.2-1ubuntu2.18.04.2).\n",
            "dpkg-dev is already the newest version (1.19.0.5ubuntu2.3).\n",
            "dpkg-dev set to manually installed.\n",
            "g++ is already the newest version (4:7.4.0-1ubuntu2.3).\n",
            "g++ set to manually installed.\n",
            "gcc is already the newest version (4:7.4.0-1ubuntu2.3).\n",
            "gcc set to manually installed.\n",
            "gfortran is already the newest version (4:7.4.0-1ubuntu2.3).\n",
            "git is already the newest version (1:2.17.1-1ubuntu0.9).\n",
            "libx11-dev is already the newest version (2:1.6.4-3ubuntu0.4).\n",
            "libx11-dev set to manually installed.\n",
            "python2.7 is already the newest version (2.7.17-1~18.04ubuntu1.6).\n",
            "python2.7 set to manually installed.\n",
            "The following additional packages will be installed:\n",
            "  binutils-common binutils-x86-64-linux-gnu libapr1 libaprutil1 libbinutils\n",
            "  libserf-1-1 libsvn1\n",
            "Suggested packages:\n",
            "  binutils-doc db5.3-util libapache2-mod-svn subversion-tools ncompress\n",
            "  tar-scripts tar-doc\n",
            "The following NEW packages will be installed:\n",
            "  libapr1 libaprutil1 libserf-1-1 libsvn1 libxpm-dev subversion\n",
            "The following packages will be upgraded:\n",
            "  binutils binutils-common binutils-x86-64-linux-gnu libbinutils tar\n",
            "5 upgraded, 6 newly installed, 0 to remove and 32 not upgraded.\n",
            "Need to get 5,086 kB of archives.\n",
            "After this operation, 10.1 MB of additional disk space will be used.\n",
            "Get:1 http://archive.ubuntu.com/ubuntu bionic-updates/main amd64 tar amd64 1.29b-2ubuntu0.2 [234 kB]\n",
            "Get:2 http://archive.ubuntu.com/ubuntu bionic-updates/main amd64 binutils-x86-64-linux-gnu amd64 2.30-21ubuntu1~18.04.7 [1,839 kB]\n",
            "Get:3 http://archive.ubuntu.com/ubuntu bionic-updates/main amd64 binutils-common amd64 2.30-21ubuntu1~18.04.7 [197 kB]\n",
            "Get:4 http://archive.ubuntu.com/ubuntu bionic-updates/main amd64 binutils amd64 2.30-21ubuntu1~18.04.7 [3,388 B]\n",
            "Get:5 http://archive.ubuntu.com/ubuntu bionic-updates/main amd64 libbinutils amd64 2.30-21ubuntu1~18.04.7 [489 kB]\n",
            "Get:6 http://archive.ubuntu.com/ubuntu bionic/main amd64 libapr1 amd64 1.6.3-2 [90.9 kB]\n",
            "Get:7 http://archive.ubuntu.com/ubuntu bionic/main amd64 libaprutil1 amd64 1.6.1-2 [84.4 kB]\n",
            "Get:8 http://archive.ubuntu.com/ubuntu bionic/universe amd64 libserf-1-1 amd64 1.3.9-6 [44.4 kB]\n",
            "Get:9 http://archive.ubuntu.com/ubuntu bionic/universe amd64 libsvn1 amd64 1.9.7-4ubuntu1 [1,183 kB]\n",
            "Get:10 http://archive.ubuntu.com/ubuntu bionic/main amd64 libxpm-dev amd64 1:3.5.12-1 [87.4 kB]\n",
            "Get:11 http://archive.ubuntu.com/ubuntu bionic/universe amd64 subversion amd64 1.9.7-4ubuntu1 [834 kB]\n",
            "Fetched 5,086 kB in 1s (3,783 kB/s)\n",
            "(Reading database ... 155225 files and directories currently installed.)\n",
            "Preparing to unpack .../tar_1.29b-2ubuntu0.2_amd64.deb ...\n",
            "Unpacking tar (1.29b-2ubuntu0.2) over (1.29b-2ubuntu0.1) ...\n",
            "Setting up tar (1.29b-2ubuntu0.2) ...\n",
            "update-alternatives: warning: forcing reinstallation of alternative /usr/sbin/rmt-tar because link group rmt is broken\n",
            "(Reading database ... 155225 files and directories currently installed.)\n",
            "Preparing to unpack .../0-binutils-x86-64-linux-gnu_2.30-21ubuntu1~18.04.7_amd64.deb ...\n",
            "Unpacking binutils-x86-64-linux-gnu (2.30-21ubuntu1~18.04.7) over (2.30-21ubuntu1~18.04.4) ...\n",
            "Preparing to unpack .../1-binutils-common_2.30-21ubuntu1~18.04.7_amd64.deb ...\n",
            "Unpacking binutils-common:amd64 (2.30-21ubuntu1~18.04.7) over (2.30-21ubuntu1~18.04.4) ...\n",
            "Preparing to unpack .../2-binutils_2.30-21ubuntu1~18.04.7_amd64.deb ...\n",
            "Unpacking binutils (2.30-21ubuntu1~18.04.7) over (2.30-21ubuntu1~18.04.4) ...\n",
            "Preparing to unpack .../3-libbinutils_2.30-21ubuntu1~18.04.7_amd64.deb ...\n",
            "Unpacking libbinutils:amd64 (2.30-21ubuntu1~18.04.7) over (2.30-21ubuntu1~18.04.4) ...\n",
            "Selecting previously unselected package libapr1:amd64.\n",
            "Preparing to unpack .../4-libapr1_1.6.3-2_amd64.deb ...\n",
            "Unpacking libapr1:amd64 (1.6.3-2) ...\n",
            "Selecting previously unselected package libaprutil1:amd64.\n",
            "Preparing to unpack .../5-libaprutil1_1.6.1-2_amd64.deb ...\n",
            "Unpacking libaprutil1:amd64 (1.6.1-2) ...\n",
            "Selecting previously unselected package libserf-1-1:amd64.\n",
            "Preparing to unpack .../6-libserf-1-1_1.3.9-6_amd64.deb ...\n",
            "Unpacking libserf-1-1:amd64 (1.3.9-6) ...\n",
            "Selecting previously unselected package libsvn1:amd64.\n",
            "Preparing to unpack .../7-libsvn1_1.9.7-4ubuntu1_amd64.deb ...\n",
            "Unpacking libsvn1:amd64 (1.9.7-4ubuntu1) ...\n",
            "Selecting previously unselected package libxpm-dev:amd64.\n",
            "Preparing to unpack .../8-libxpm-dev_1%3a3.5.12-1_amd64.deb ...\n",
            "Unpacking libxpm-dev:amd64 (1:3.5.12-1) ...\n",
            "Selecting previously unselected package subversion.\n",
            "Preparing to unpack .../9-subversion_1.9.7-4ubuntu1_amd64.deb ...\n",
            "Unpacking subversion (1.9.7-4ubuntu1) ...\n",
            "Setting up libapr1:amd64 (1.6.3-2) ...\n",
            "Setting up libxpm-dev:amd64 (1:3.5.12-1) ...\n",
            "Setting up binutils-common:amd64 (2.30-21ubuntu1~18.04.7) ...\n",
            "Setting up libaprutil1:amd64 (1.6.1-2) ...\n",
            "Setting up libbinutils:amd64 (2.30-21ubuntu1~18.04.7) ...\n",
            "Setting up libserf-1-1:amd64 (1.3.9-6) ...\n",
            "Setting up libsvn1:amd64 (1.9.7-4ubuntu1) ...\n",
            "Setting up binutils-x86-64-linux-gnu (2.30-21ubuntu1~18.04.7) ...\n",
            "Setting up subversion (1.9.7-4ubuntu1) ...\n",
            "Setting up binutils (2.30-21ubuntu1~18.04.7) ...\n",
            "Processing triggers for libc-bin (2.27-3ubuntu1.3) ...\n",
            "/sbin/ldconfig.real: /usr/local/lib/python3.7/dist-packages/ideep4py/lib/libmkldnn.so.0 is not a symbolic link\n",
            "\n",
            "Processing triggers for man-db (2.8.3-2ubuntu0.1) ...\n",
            "Processing triggers for mime-support (3.60ubuntu1) ...\n",
            "Downloading...\n",
            "From: https://drive.google.com/uc?id=1bWgcTAMG7IoyQASWwrrOQrGe4haUAo9t\n",
            "To: /content/root_for_colab.tar.gz\n",
            "100% 1.57G/1.57G [00:11<00:00, 135MB/s]\n",
            "Welcome to JupyROOT 6.25/01\n"
          ]
        }
      ],
      "source": [
        "!apt-get install git dpkg-dev cmake g++ gcc binutils libx11-dev libxpm-dev libxft-dev libxext-dev tar gfortran subversion python2.7\n",
        "!gdown https://drive.google.com/uc?id=1bWgcTAMG7IoyQASWwrrOQrGe4haUAo9t\n",
        "!cd /; tar xzf /content/root_for_colab.tar.gz\n",
        "!rm -rf root_for_colab.tar.gz\n",
        "import sys\n",
        "sys.path.append(\"/content/root/build/\")\n",
        "sys.path.append(\"/content/root/build/bin/\")\n",
        "sys.path.append(\"/content/root/build/include/\")\n",
        "sys.path.append(\"/content/root/build/lib/\")\n",
        "import ROOT\n",
        "import math"
      ]
    },
    {
      "cell_type": "markdown",
      "source": [
        "Import the data we want to analyze, which is saved in a .root file and contain tracks and calorimeters clusters:"
      ],
      "metadata": {
        "id": "WQ1TPtOEEuwu"
      }
    },
    {
      "cell_type": "code",
      "source": [
        "F = ROOT.TFile.Open(\"http://csandova.web.cern.ch/csandova/HEP-Ex-Course/Code/TTbarSel/Data_8TeV.root\")"
      ],
      "metadata": {
        "id": "02mqj5EqEa7y"
      },
      "execution_count": 2,
      "outputs": []
    },
    {
      "cell_type": "markdown",
      "source": [
        "Now we define a tree to get the data out of the above imported file. The tree in this root file is called \"mini\". And then we will print the content of this tree:"
      ],
      "metadata": {
        "id": "cE6tTVFrFMPq"
      }
    },
    {
      "cell_type": "code",
      "source": [
        "tree=F.Get(\"mini\")\n",
        "tree.Print()"
      ],
      "metadata": {
        "colab": {
          "base_uri": "https://localhost:8080/"
        },
        "id": "HvvfOCB-FRTe",
        "outputId": "7dc41fbd-8393-4284-b96e-d2c57cccf92b"
      },
      "execution_count": 3,
      "outputs": [
        {
          "output_type": "stream",
          "name": "stdout",
          "text": [
            "******************************************************************************\n",
            "*Tree    :mini      : 4-vectors + variables required for scaling factors     *\n",
            "*Entries : 14945674 : Total =      3737586466 bytes  File  Size = 1366006484 *\n",
            "*        :          : Tree compression factor =   2.74                       *\n",
            "******************************************************************************\n",
            "*Br    0 :runNumber : runNumber/I                                            *\n",
            "*Entries : 14945674 : Total  Size=   59789737 bytes  File Size  =     297928 *\n",
            "*Baskets :       70 : Basket Size=    1224192 bytes  Compression= 200.68     *\n",
            "*............................................................................*\n",
            "*Br    1 :eventNumber : eventNumber/I                                        *\n",
            "*Entries : 14945674 : Total  Size=   59789885 bytes  File Size  =   44412272 *\n",
            "*Baskets :       70 : Basket Size=    1224192 bytes  Compression=   1.35     *\n",
            "*............................................................................*\n",
            "*Br    2 :channelNumber : channelNumber/I                                    *\n",
            "*Entries : 14945674 : Total  Size=   59790033 bytes  File Size  =     298208 *\n",
            "*Baskets :       70 : Basket Size=    1224192 bytes  Compression= 200.49     *\n",
            "*............................................................................*\n",
            "*Br    3 :mcWeight  : mcWeight/F                                             *\n",
            "*Entries : 14945674 : Total  Size=   59789663 bytes  File Size  =     268231 *\n",
            "*Baskets :       70 : Basket Size=    1224192 bytes  Compression= 222.90     *\n",
            "*............................................................................*\n",
            "*Br    4 :pvxp_n    : pvxp_n/I                                               *\n",
            "*Entries : 14945674 : Total  Size=   59789515 bytes  File Size  =   13103705 *\n",
            "*Baskets :       70 : Basket Size=    1224192 bytes  Compression=   4.56     *\n",
            "*............................................................................*\n",
            "*Br    5 :vxp_z     : vxp_z/F                                                *\n",
            "*Entries : 14945674 : Total  Size=   59789441 bytes  File Size  =   55540897 *\n",
            "*Baskets :       70 : Basket Size=    1224192 bytes  Compression=   1.08     *\n",
            "*............................................................................*\n",
            "*Br    6 :scaleFactor_PILEUP : scaleFactor_PILEUP/F                          *\n",
            "*Entries : 14945674 : Total  Size=   59790403 bytes  File Size  =     268931 *\n",
            "*Baskets :       70 : Basket Size=    1224192 bytes  Compression= 222.32     *\n",
            "*............................................................................*\n",
            "*Br    7 :scaleFactor_ELE : scaleFactor_ELE/F                                *\n",
            "*Entries : 14945674 : Total  Size=   59790181 bytes  File Size  =     268721 *\n",
            "*Baskets :       70 : Basket Size=    1224192 bytes  Compression= 222.49     *\n",
            "*............................................................................*\n",
            "*Br    8 :scaleFactor_MUON : scaleFactor_MUON/F                              *\n",
            "*Entries : 14945674 : Total  Size=   59790255 bytes  File Size  =     268791 *\n",
            "*Baskets :       70 : Basket Size=    1224192 bytes  Compression= 222.43     *\n",
            "*............................................................................*\n",
            "*Br    9 :scaleFactor_BTAG : scaleFactor_BTAG/F                              *\n",
            "*Entries : 14945674 : Total  Size=   59790255 bytes  File Size  =     268791 *\n",
            "*Baskets :       70 : Basket Size=    1224192 bytes  Compression= 222.43     *\n",
            "*............................................................................*\n",
            "*Br   10 :scaleFactor_TRIGGER : scaleFactor_TRIGGER/F                        *\n",
            "*Entries : 14945674 : Total  Size=   59790477 bytes  File Size  =     269001 *\n",
            "*Baskets :       70 : Basket Size=    1224192 bytes  Compression= 222.26     *\n",
            "*............................................................................*\n",
            "*Br   11 :scaleFactor_JVFSF : scaleFactor_JVFSF/F                            *\n",
            "*Entries : 14945674 : Total  Size=   59790329 bytes  File Size  =     268861 *\n",
            "*Baskets :       70 : Basket Size=    1224192 bytes  Compression= 222.38     *\n",
            "*............................................................................*\n",
            "*Br   12 :scaleFactor_ZVERTEX : scaleFactor_ZVERTEX/F                        *\n",
            "*Entries : 14945674 : Total  Size=   59790477 bytes  File Size  =     269001 *\n",
            "*Baskets :       70 : Basket Size=    1224192 bytes  Compression= 222.26     *\n",
            "*............................................................................*\n",
            "*Br   13 :trigE     : trigE/O                                                *\n",
            "*Entries : 14945674 : Total  Size=   14958761 bytes  File Size  =      79720 *\n",
            "*Baskets :      139 : Basket Size=     159744 bytes  Compression= 187.60     *\n",
            "*............................................................................*\n",
            "*Br   14 :trigM     : trigM/O                                                *\n",
            "*Entries : 14945674 : Total  Size=   14958761 bytes  File Size  =     104652 *\n",
            "*Baskets :      139 : Basket Size=     159744 bytes  Compression= 142.91     *\n",
            "*............................................................................*\n",
            "*Br   15 :passGRL   : passGRL/O                                              *\n",
            "*Entries : 14945674 : Total  Size=   14959047 bytes  File Size  =      80772 *\n",
            "*Baskets :      139 : Basket Size=     159744 bytes  Compression= 185.16     *\n",
            "*............................................................................*\n",
            "*Br   16 :hasGoodVertex : hasGoodVertex/O                                    *\n",
            "*Entries : 14945674 : Total  Size=   14959905 bytes  File Size  =     829254 *\n",
            "*Baskets :      139 : Basket Size=     159744 bytes  Compression=  18.04     *\n",
            "*............................................................................*\n",
            "*Br   17 :lep_n     : lep_n/i                                                *\n",
            "*Entries : 14945674 : Total  Size=   59789441 bytes  File Size  =    2971296 *\n",
            "*Baskets :       70 : Basket Size=    1224192 bytes  Compression=  20.12     *\n",
            "*............................................................................*\n",
            "*Br   18 :lep_truthMatched : lep_truthMatched[lep_n]/O                       *\n",
            "*Entries : 14945674 : Total  Size=   75857338 bytes  File Size  =   20999814 *\n",
            "*Baskets :      139 : Basket Size=    1224192 bytes  Compression=   3.61     *\n",
            "*............................................................................*\n",
            "*Br   19 :lep_trigMatched : lep_trigMatched[lep_n]/s                         *\n",
            "*Entries : 14945674 : Total  Size=   91915976 bytes  File Size  =   24049899 *\n",
            "*Baskets :      139 : Basket Size=    1224192 bytes  Compression=   3.82     *\n",
            "*............................................................................*\n",
            "*Br   20 :lep_pt    : lep_pt[lep_n]/F                                        *\n",
            "*Entries : 14945674 : Total  Size=  124039220 bytes  File Size  =   74690269 *\n",
            "*Baskets :      208 : Basket Size=    1224192 bytes  Compression=   1.66     *\n",
            "*............................................................................*\n",
            "*Br   21 :lep_eta   : lep_eta[lep_n]/F                                       *\n",
            "*Entries : 14945674 : Total  Size=  124039432 bytes  File Size  =   77563362 *\n",
            "*Baskets :      208 : Basket Size=    1224192 bytes  Compression=   1.60     *\n",
            "*............................................................................*\n",
            "*Br   22 :lep_phi   : lep_phi[lep_n]/F                                       *\n",
            "*Entries : 14945674 : Total  Size=  124039432 bytes  File Size  =   77598012 *\n",
            "*Baskets :      208 : Basket Size=    1224192 bytes  Compression=   1.60     *\n",
            "*............................................................................*\n",
            "*Br   23 :lep_E     : lep_E[lep_n]/F                                         *\n",
            "*Entries : 14945674 : Total  Size=  124039008 bytes  File Size  =   75496519 *\n",
            "*Baskets :      208 : Basket Size=    1224192 bytes  Compression=   1.64     *\n",
            "*............................................................................*\n",
            "*Br   24 :lep_z0    : lep_z0[lep_n]/F                                        *\n",
            "*Entries : 14945674 : Total  Size=  124039220 bytes  File Size  =   78351134 *\n",
            "*Baskets :      208 : Basket Size=    1224192 bytes  Compression=   1.58     *\n",
            "*............................................................................*\n",
            "*Br   25 :lep_charge : lep_charge[lep_n]/F                                   *\n",
            "*Entries : 14945674 : Total  Size=  124040068 bytes  File Size  =   25355214 *\n",
            "*Baskets :      208 : Basket Size=    1224192 bytes  Compression=   4.89     *\n",
            "*............................................................................*\n",
            "*Br   26 :lep_type  : lep_type[lep_n]/i                                      *\n",
            "*Entries : 14945674 : Total  Size=  124039637 bytes  File Size  =   18822849 *\n",
            "*Baskets :      208 : Basket Size=    1224192 bytes  Compression=   6.59     *\n",
            "*............................................................................*\n",
            "*Br   27 :lep_flag  : lep_flag[lep_n]/i                                      *\n",
            "*Entries : 14945674 : Total  Size=  124039637 bytes  File Size  =   31625869 *\n",
            "*Baskets :      208 : Basket Size=    1224192 bytes  Compression=   3.92     *\n",
            "*............................................................................*\n",
            "*Br   28 :lep_ptcone30 : lep_ptcone30[lep_n]/F                               *\n",
            "*Entries : 14945674 : Total  Size=  124040492 bytes  File Size  =   45473662 *\n",
            "*Baskets :      208 : Basket Size=    1224192 bytes  Compression=   2.73     *\n",
            "*............................................................................*\n",
            "*Br   29 :lep_etcone20 : lep_etcone20[lep_n]/F                               *\n",
            "*Entries : 14945674 : Total  Size=  124040492 bytes  File Size  =   75793466 *\n",
            "*Baskets :      208 : Basket Size=    1224192 bytes  Compression=   1.64     *\n",
            "*............................................................................*\n",
            "*Br   30 :lep_trackd0pvunbiased : lep_trackd0pvunbiased[lep_n]/F             *\n",
            "*Entries : 14945674 : Total  Size=  124042400 bytes  File Size  =   78337113 *\n",
            "*Baskets :      208 : Basket Size=    1224192 bytes  Compression=   1.58     *\n",
            "*............................................................................*\n",
            "*Br   31 :lep_tracksigd0pvunbiased : lep_tracksigd0pvunbiased[lep_n]/F       *\n",
            "*Entries : 14945674 : Total  Size=  124043036 bytes  File Size  =   74120311 *\n",
            "*Baskets :      208 : Basket Size=    1224192 bytes  Compression=   1.67     *\n",
            "*............................................................................*\n",
            "*Br   32 :met_et    : met_et/F                                               *\n",
            "*Entries : 14945674 : Total  Size=   59789515 bytes  File Size  =   53578213 *\n",
            "*Baskets :       70 : Basket Size=    1224192 bytes  Compression=   1.12     *\n",
            "*............................................................................*\n",
            "*Br   33 :met_phi   : met_phi/F                                              *\n",
            "*Entries : 14945674 : Total  Size=   59789589 bytes  File Size  =   55415952 *\n",
            "*Baskets :       70 : Basket Size=    1224192 bytes  Compression=   1.08     *\n",
            "*............................................................................*\n",
            "*Br   34 :jet_n     : jet_n/i                                                *\n",
            "*Entries : 14945674 : Total  Size=   59789441 bytes  File Size  =    7425059 *\n",
            "*Baskets :       70 : Basket Size=    1224192 bytes  Compression=   8.05     *\n",
            "*............................................................................*\n",
            "*Br   35 :alljet_n  : alljet_n/i                                             *\n",
            "*Entries : 14945674 : Total  Size=   59789663 bytes  File Size  =    7943976 *\n",
            "*Baskets :       70 : Basket Size=    1224192 bytes  Compression=   7.53     *\n",
            "*............................................................................*\n",
            "*Br   36 :jet_pt    : jet_pt[alljet_n]/F                                     *\n",
            "*Entries : 14945674 : Total  Size=   94527479 bytes  File Size  =   43503461 *\n",
            "*Baskets :      139 : Basket Size=    1224192 bytes  Compression=   2.17     *\n",
            "*............................................................................*\n",
            "*Br   37 :jet_eta   : jet_eta[alljet_n]/F                                    *\n",
            "*Entries : 14945674 : Total  Size=   94527622 bytes  File Size  =   44933234 *\n",
            "*Baskets :      139 : Basket Size=    1224192 bytes  Compression=   2.10     *\n",
            "*............................................................................*\n",
            "*Br   38 :jet_phi   : jet_phi[alljet_n]/F                                    *\n",
            "*Entries : 14945674 : Total  Size=   94527622 bytes  File Size  =   44929226 *\n",
            "*Baskets :      139 : Basket Size=    1224192 bytes  Compression=   2.10     *\n",
            "*............................................................................*\n",
            "*Br   39 :jet_E     : jet_E[alljet_n]/F                                      *\n",
            "*Entries : 14945674 : Total  Size=   94527336 bytes  File Size  =   43801321 *\n",
            "*Baskets :      139 : Basket Size=    1224192 bytes  Compression=   2.16     *\n",
            "*............................................................................*\n",
            "*Br   40 :jet_m     : jet_m[alljet_n]/F                                      *\n",
            "*Entries : 14945674 : Total  Size=   94527336 bytes  File Size  =   43460012 *\n",
            "*Baskets :      139 : Basket Size=    1224192 bytes  Compression=   2.17     *\n",
            "*............................................................................*\n",
            "*Br   41 :jet_jvf   : jet_jvf[alljet_n]/F                                    *\n",
            "*Entries : 14945674 : Total  Size=   94527622 bytes  File Size  =   39392706 *\n",
            "*Baskets :      139 : Basket Size=    1224192 bytes  Compression=   2.40     *\n",
            "*............................................................................*\n",
            "*Br   42 :jet_trueflav : jet_trueflav[alljet_n]/I                            *\n",
            "*Entries : 14945674 : Total  Size=   94528330 bytes  File Size  =   12915685 *\n",
            "*Baskets :      139 : Basket Size=    1224192 bytes  Compression=   7.32     *\n",
            "*............................................................................*\n",
            "*Br   43 :jet_truthMatched : jet_truthMatched[alljet_n]/I                    *\n",
            "*Entries : 14945674 : Total  Size=   94528902 bytes  File Size  =   12893729 *\n",
            "*Baskets :      139 : Basket Size=    1224192 bytes  Compression=   7.33     *\n",
            "*............................................................................*\n",
            "*Br   44 :jet_SV0   : jet_SV0[alljet_n]/F                                    *\n",
            "*Entries : 14945674 : Total  Size=   94527622 bytes  File Size  =   16306468 *\n",
            "*Baskets :      139 : Basket Size=    1224192 bytes  Compression=   5.80     *\n",
            "*............................................................................*\n",
            "*Br   45 :jet_MV1   : jet_MV1[alljet_n]/F                                    *\n",
            "*Entries : 14945674 : Total  Size=   94527622 bytes  File Size  =   41303912 *\n",
            "*Baskets :      139 : Basket Size=    1224192 bytes  Compression=   2.29     *\n",
            "*............................................................................*\n"
          ]
        }
      ]
    },
    {
      "cell_type": "markdown",
      "source": [
        "In Python is not necessay to activate the variables. So, we proceed to create the canvas:"
      ],
      "metadata": {
        "id": "OiTqoDgyGaHb"
      }
    },
    {
      "cell_type": "code",
      "source": [
        "canvas=ROOT.TCanvas(\"Canvas\",\"TTbarSel exercise\",800,600)"
      ],
      "metadata": {
        "id": "L9uIBU-SGtqK"
      },
      "execution_count": 4,
      "outputs": []
    },
    {
      "cell_type": "markdown",
      "source": [
        "Before the cuts we want to plot the distributions of the main kinematic variables:"
      ],
      "metadata": {
        "id": "JSangs1E1Hdc"
      }
    },
    {
      "cell_type": "markdown",
      "source": [
        "**Distribution Plots:** \n",
        "\n",
        "\n",
        "\n",
        "1.   For the leptons we will create and fill histograms for:\n",
        "* Transverse momentum $p_{T}$:\n",
        "* Track isolation: $\\frac{p_{Tcone30}}{p_{T}}$ \n",
        "* Calorimeter isolation: $\\frac{E_{Tcone20}}{p_{T}}$\n",
        "* *Pseudorapidity* $\\eta$ \n",
        "\n",
        "\n",
        "\n"
      ],
      "metadata": {
        "id": "yAzV2wIpalha"
      }
    },
    {
      "cell_type": "code",
      "source": [
        "#Create histograms for leptons:\n",
        "hist_lepton_pt=ROOT.TH1F(\"Leptons-pt\",\"Leptons pT; pT(GeV); Events\",50,0,1000)\n",
        "hist_lepton_ptcone30=ROOT.TH1F(\"Leptons-ptcone30\",\"Track Isolation; lep_ptcone30/lep_pt; Events\",50,0,2) \n",
        "hist_lepton_etcone20=ROOT.TH1F(\"Leptons-etcone30\",\"Caolirimeter Isolation; lep_etcone30/lep_pt; Events\",50,0,2) \n",
        "hist_lepton_eta=ROOT.TH1F(\"Leptons-eta\",\"Leptons eta; eta; Events\",50,-4,4)"
      ],
      "metadata": {
        "id": "RLUR-vlvavjW"
      },
      "execution_count": 5,
      "outputs": []
    },
    {
      "cell_type": "code",
      "source": [
        "#Loop and fill the histograms:\n",
        "for event in tree:\n",
        "  for i in range(0,tree.lep_n):\n",
        "    hist_lepton_pt.Fill(tree.lep_pt[i]/1000)\n",
        "    hist_lepton_ptcone30.Fill(tree.lep_ptcone30[i]/tree.lep_pt[i])\n",
        "    hist_lepton_etcone20.Fill(tree.lep_etcone20[i]/tree.lep_pt[i])\n",
        "    hist_lepton_eta.Fill(tree.lep_eta[i])\n",
        "\n",
        "print(\"Done!\")"
      ],
      "metadata": {
        "colab": {
          "base_uri": "https://localhost:8080/"
        },
        "id": "8ZEDtv2J25kM",
        "outputId": "155ccc65-77cf-48b3-d836-4e7797489792"
      },
      "execution_count": 6,
      "outputs": [
        {
          "output_type": "stream",
          "name": "stdout",
          "text": [
            "Done!\n"
          ]
        }
      ]
    },
    {
      "cell_type": "code",
      "source": [
        "hist_lepton_pt.SetFillColor(4);\n",
        "hist_lepton_pt.Draw();\n",
        "canvas.SetLogy();\n",
        "canvas.Draw();\n",
        "canvas.Print(\"hist_lepton_pt.pdf\");"
      ],
      "metadata": {
        "colab": {
          "base_uri": "https://localhost:8080/",
          "height": 606
        },
        "id": "BHWNCFEVD_aT",
        "outputId": "d8cef23e-832a-4c66-89fb-b1f9511a040d"
      },
      "execution_count": 7,
      "outputs": [
        {
          "output_type": "stream",
          "name": "stderr",
          "text": [
            "Info in <TCanvas::Print>: pdf file hist_lepton_pt.pdf has been created\n"
          ]
        },
        {
          "output_type": "display_data",
          "data": {
            "image/png": "[encoded data removed]",
            "text/plain": [
              "<IPython.core.display.Image object>"
            ]
          },
          "metadata": {}
        }
      ]
    },
    {
      "cell_type": "code",
      "source": [
        "hist_lepton_ptcone30.SetFillColor(3);\n",
        "hist_lepton_ptcone30.Draw();\n",
        "canvas.Draw();\n",
        "canvas.Print(\"hist_lepton_ptcone30.pdf\");"
      ],
      "metadata": {
        "colab": {
          "base_uri": "https://localhost:8080/",
          "height": 606
        },
        "id": "8YtuEkaVEhgw",
        "outputId": "06978d58-ce1d-4130-b6e6-944b015e27bb"
      },
      "execution_count": 8,
      "outputs": [
        {
          "output_type": "stream",
          "name": "stderr",
          "text": [
            "Info in <TCanvas::Print>: pdf file hist_lepton_ptcone30.pdf has been created\n"
          ]
        },
        {
          "output_type": "display_data",
          "data": {
            "image/png": "[encoded data removed]",
            "text/plain": [
              "<IPython.core.display.Image object>"
            ]
          },
          "metadata": {}
        }
      ]
    },
    {
      "cell_type": "code",
      "source": [
        "hist_lepton_etcone20.SetFillColor(5);\n",
        "hist_lepton_etcone20.Draw();\n",
        "canvas.Draw();\n",
        "canvas.Print(\"hist_lepton_etcone20.pdf\");"
      ],
      "metadata": {
        "colab": {
          "base_uri": "https://localhost:8080/",
          "height": 606
        },
        "id": "pZck5DdMFnff",
        "outputId": "3de1cf2a-5551-423f-a316-f85e7d34a397"
      },
      "execution_count": 9,
      "outputs": [
        {
          "output_type": "stream",
          "name": "stderr",
          "text": [
            "Info in <TCanvas::Print>: pdf file hist_lepton_etcone20.pdf has been created\n"
          ]
        },
        {
          "output_type": "display_data",
          "data": {
            "image/png": "[encoded data removed]",
            "text/plain": [
              "<IPython.core.display.Image object>"
            ]
          },
          "metadata": {}
        }
      ]
    },
    {
      "cell_type": "code",
      "source": [
        "hist_lepton_eta.SetFillColor(6);\n",
        "hist_lepton_eta.Draw();\n",
        "canvas.Draw();\n",
        "canvas.Print(\"hist_lepton_eta.pdf\");"
      ],
      "metadata": {
        "colab": {
          "base_uri": "https://localhost:8080/",
          "height": 606
        },
        "id": "FQPkVaoHF-zh",
        "outputId": "970b1bb3-f514-4c2c-c0f4-2a08d9849982"
      },
      "execution_count": 10,
      "outputs": [
        {
          "output_type": "stream",
          "name": "stderr",
          "text": [
            "Info in <TCanvas::Print>: pdf file hist_lepton_eta.pdf has been created\n"
          ]
        },
        {
          "output_type": "display_data",
          "data": {
            "image/png": "[encoded data removed]",
            "text/plain": [
              "<IPython.core.display.Image object>"
            ]
          },
          "metadata": {}
        }
      ]
    },
    {
      "cell_type": "markdown",
      "source": [
        "2.   For jets we will also create and fill histograms for:\n",
        "* Number of jets\n",
        "* Transverse momentum $p_{T}$:\n",
        "* *Pseudorapidity* $\\eta$ \n",
        "* Jet Vertex Fraction (JVF)\n",
        "* MV1 Output\n",
        "* Number of b-jets (This will be possible to plot just after make the selection and count of the b-jets in the cutflow, specifically before the sixth cut)."
      ],
      "metadata": {
        "id": "IDOxSCxOIIuh"
      }
    },
    {
      "cell_type": "code",
      "source": [
        "#create histograms:\n",
        "hist_njets=ROOT.TH1F(\"njets\",\"Histogram of the number of jets; Number of jets; Events\",15,0,15)\n",
        "hist_jets_pt=ROOT.TH1F(\"jets_pt\",\"Jets pT; pT(GeV); Events\",50,0,1000)\n",
        "hist_jets_eta=ROOT.TH1F(\"jets_eta\",\"Jets eta; eta; Events\",50,-4,4)\n",
        "hist_jets_jvf=ROOT.TH1F(\"jets_jvf\",\"Jets JVF; JVF; Events\",50,-1,1)\n",
        "hist_jets_mv1=ROOT.TH1F(\"jets_mv1\",\"Jets MV1; MV1; Events\",50,0,1)\n",
        "hist_nbjets=ROOT.TH1F(\"nbjets\",\"Histogram of the number of b-jets; Number of b-jets; Events\",15,0,15)"
      ],
      "metadata": {
        "id": "IdEgevZwJtmA"
      },
      "execution_count": 11,
      "outputs": []
    },
    {
      "cell_type": "code",
      "source": [
        "#Loop and fill the histograms:\n",
        "for event in tree:\n",
        "  hist_njets.Fill(tree.jet_n)\n",
        "  for i in range(0,tree.jet_n):\n",
        "    hist_jets_pt.Fill(tree.jet_pt[i]/1000);\n",
        "    hist_jets_eta.Fill(tree.jet_eta[i]);\n",
        "    hist_jets_jvf.Fill(tree.jet_jvf[i]);\n",
        "    hist_jets_mv1.Fill(tree.jet_MV1[i]);"
      ],
      "metadata": {
        "id": "7HkK5RhNNrmn"
      },
      "execution_count": 12,
      "outputs": []
    },
    {
      "cell_type": "code",
      "source": [
        "hist_njets.SetFillColor(2);\n",
        "hist_njets.Draw();\n",
        "canvas.Draw();\n",
        "canvas.Print(\"hist_njets.pdf\");"
      ],
      "metadata": {
        "id": "gWZtxnB1TvnE",
        "colab": {
          "base_uri": "https://localhost:8080/",
          "height": 606
        },
        "outputId": "b38b23fe-4c6b-4398-9899-eaf723adcc18"
      },
      "execution_count": 13,
      "outputs": [
        {
          "output_type": "stream",
          "name": "stderr",
          "text": [
            "Info in <TCanvas::Print>: pdf file hist_njets.pdf has been created\n"
          ]
        },
        {
          "output_type": "display_data",
          "data": {
            "image/png": "[encoded data removed]",
            "text/plain": [
              "<IPython.core.display.Image object>"
            ]
          },
          "metadata": {}
        }
      ]
    },
    {
      "cell_type": "code",
      "source": [
        "hist_jets_pt.SetFillColor(7);\n",
        "hist_jets_pt.Draw();\n",
        "canvas.Draw();\n",
        "canvas.Print(\"hist_jets_pt.pdf\");"
      ],
      "metadata": {
        "id": "7bwoxjCuT9cQ",
        "colab": {
          "base_uri": "https://localhost:8080/",
          "height": 606
        },
        "outputId": "f38e03f4-6fa3-4f8c-8267-b273829f447f"
      },
      "execution_count": 14,
      "outputs": [
        {
          "output_type": "stream",
          "name": "stderr",
          "text": [
            "Info in <TCanvas::Print>: pdf file hist_jets_pt.pdf has been created\n"
          ]
        },
        {
          "output_type": "display_data",
          "data": {
            "image/png": "[encoded data removed]",
            "text/plain": [
              "<IPython.core.display.Image object>"
            ]
          },
          "metadata": {}
        }
      ]
    },
    {
      "cell_type": "code",
      "source": [
        "hist_jets_eta.SetFillColor(8);\n",
        "hist_jets_eta.Draw();\n",
        "canvas.Draw();\n",
        "canvas.Print(\"hist_jets_eta.pdf\");"
      ],
      "metadata": {
        "id": "BNlm78GWUFx1",
        "colab": {
          "base_uri": "https://localhost:8080/",
          "height": 606
        },
        "outputId": "b1825b33-8fc8-4b18-f57d-56bb6083cebc"
      },
      "execution_count": 15,
      "outputs": [
        {
          "output_type": "stream",
          "name": "stderr",
          "text": [
            "Info in <TCanvas::Print>: pdf file hist_jets_eta.pdf has been created\n"
          ]
        },
        {
          "output_type": "display_data",
          "data": {
            "image/png": "[encoded data removed]",
            "text/plain": [
              "<IPython.core.display.Image object>"
            ]
          },
          "metadata": {}
        }
      ]
    },
    {
      "cell_type": "code",
      "source": [
        "hist_jets_jvf.SetFillColor(9);\n",
        "hist_jets_jvf.Draw();\n",
        "canvas.Draw();\n",
        "canvas.Print(\"hist_jets_jvf.pdf\");"
      ],
      "metadata": {
        "id": "srXDhWcsULmQ",
        "colab": {
          "base_uri": "https://localhost:8080/",
          "height": 606
        },
        "outputId": "1a9fc6d1-33bb-4bf9-ac65-b5a67d255779"
      },
      "execution_count": 16,
      "outputs": [
        {
          "output_type": "stream",
          "name": "stderr",
          "text": [
            "Info in <TCanvas::Print>: pdf file hist_jets_jvf.pdf has been created\n"
          ]
        },
        {
          "output_type": "display_data",
          "data": {
            "image/png": "[encoded data removed]",
            "text/plain": [
              "<IPython.core.display.Image object>"
            ]
          },
          "metadata": {}
        }
      ]
    },
    {
      "cell_type": "code",
      "source": [
        "hist_jets_mv1.SetFillColor(46);\n",
        "hist_jets_mv1.Draw();\n",
        "canvas.Draw();\n",
        "canvas.Print(\"hist_jets_mv1.pdf\");"
      ],
      "metadata": {
        "id": "0Kp5uzu2UUvk",
        "colab": {
          "base_uri": "https://localhost:8080/",
          "height": 606
        },
        "outputId": "eac916b1-2163-4bb7-8980-c967c58cddfb"
      },
      "execution_count": 17,
      "outputs": [
        {
          "output_type": "stream",
          "name": "stderr",
          "text": [
            "Info in <TCanvas::Print>: pdf file hist_jets_mv1.pdf has been created\n"
          ]
        },
        {
          "output_type": "display_data",
          "data": {
            "image/png": "[encoded data removed]",
            "text/plain": [
              "<IPython.core.display.Image object>"
            ]
          },
          "metadata": {}
        }
      ]
    },
    {
      "cell_type": "markdown",
      "source": [
        "3. For the Missing Transverse Energy (ME$_{T}$) which can be interpreted as neutrinos or other non-interacting particles."
      ],
      "metadata": {
        "id": "Ss4xaERjIaRw"
      }
    },
    {
      "cell_type": "code",
      "source": [
        "#Create the histogram\n",
        "hist_met=ROOT.TH1F(\"met\",\"Missing Transverse Energy MET; MET (GeV); Events\",50,0,250)"
      ],
      "metadata": {
        "id": "V5ZpZn6fk15e"
      },
      "execution_count": 18,
      "outputs": []
    },
    {
      "cell_type": "code",
      "source": [
        "#Fill the histogram\n",
        "for event in tree:\n",
        "  hist_met.Fill(tree.met_et/1000)\n",
        "\n",
        "print(\"Done!\")"
      ],
      "metadata": {
        "id": "qmZMy12LlY-J",
        "colab": {
          "base_uri": "https://localhost:8080/"
        },
        "outputId": "280f0271-3301-4017-8964-f38b9275e611"
      },
      "execution_count": 19,
      "outputs": [
        {
          "output_type": "stream",
          "name": "stdout",
          "text": [
            "Done!\n"
          ]
        }
      ]
    },
    {
      "cell_type": "code",
      "source": [
        "canvas.SetLogy(0)"
      ],
      "metadata": {
        "id": "JSe6KycUl8vs"
      },
      "execution_count": 20,
      "outputs": []
    },
    {
      "cell_type": "code",
      "source": [
        "hist_met.SetFillColor(2);\n",
        "hist_met.Draw();\n",
        "canvas.Draw();\n",
        "canvas.Print(\"hist_MET.pdf\");"
      ],
      "metadata": {
        "id": "PFuLNVObmKtS",
        "colab": {
          "base_uri": "https://localhost:8080/",
          "height": 606
        },
        "outputId": "6365f7ae-698d-48f5-a5f9-e6303c45d9ee"
      },
      "execution_count": 21,
      "outputs": [
        {
          "output_type": "stream",
          "name": "stderr",
          "text": [
            "Info in <TCanvas::Print>: pdf file hist_MET.pdf has been created\n"
          ]
        },
        {
          "output_type": "display_data",
          "data": {
            "image/png": "[encoded data removed]",
            "text/plain": [
              "<IPython.core.display.Image object>"
            ]
          },
          "metadata": {}
        }
      ]
    },
    {
      "cell_type": "markdown",
      "source": [
        "4. For the transverse mass of W boson $m_{T}(W)$ is only possible after the definition of this variable in terms of 4-vectors for leptons and MET, hence it will be made during the cutflow, specifically just before the eighth cut. "
      ],
      "metadata": {
        "id": "XzKu1qXVInO9"
      }
    },
    {
      "cell_type": "code",
      "source": [
        "#Create the histogram just for now:\n",
        "hist_mtw=ROOT.TH1F(\"mtw\",\"Transverse mass of W boson; mTW (GeV); Events\",50,0,250)"
      ],
      "metadata": {
        "id": "xl0WSuPEps3-"
      },
      "execution_count": 22,
      "outputs": []
    },
    {
      "cell_type": "markdown",
      "source": [
        "Now we create histograms for the cutflows:"
      ],
      "metadata": {
        "id": "8fBHOeDEG_wS"
      }
    },
    {
      "cell_type": "code",
      "source": [
        "cutflow=ROOT.TH1F(\"Cutflow\",\"Cutflow; Cut; Events\",10,0,10)"
      ],
      "metadata": {
        "id": "V_AZm_2yG_Nz"
      },
      "execution_count": 23,
      "outputs": []
    },
    {
      "cell_type": "markdown",
      "source": [
        "Loop and fill histograms"
      ],
      "metadata": {
        "id": "T9QKR3oMHN9w"
      }
    },
    {
      "cell_type": "code",
      "source": [
        "cut1=0;\n",
        "cut2=0;\n",
        "cut3=0;\n",
        "cut4=0;\n",
        "cut5=0;\n",
        "cut6=0;\n",
        "cut7=0;\n",
        "cut8=0;\n",
        "\n",
        "\n",
        "for event in tree:\n",
        "  #First cut: Good vertex\n",
        "  if not tree.hasGoodVertex:\n",
        "    continue\n",
        "  cut1+=1;\n",
        "  cutflow.Fill(1);\n",
        "\n",
        "  #Second cut: Trigger\n",
        "  if not tree.trigE and not tree.trigM:\n",
        "    continue\n",
        "  cut2+=1;\n",
        "  cutflow.Fill(2); \n",
        "\n",
        "  # Preselection of good leptons and loop over leptons:\n",
        "  n_mu=0;\n",
        "  n_el=0;\n",
        "  n_lep=0;\n",
        "\n",
        "  for i in range(0,tree.lep_n):\n",
        "    if tree.lep_pt[i]<25000.:\n",
        "      continue\n",
        "    if tree.lep_ptcone30[i]/tree.lep_pt[i]>0.15:\n",
        "      continue\n",
        "    if tree.lep_type[i]==13 and abs(tree.lep_eta[i])<2.5:\n",
        "      n_mu+=1;\n",
        "    if tree.lep_type[i]==11 and abs(tree.lep_eta[i])<2.47 and (abs(tree.lep_eta[i])<1.37 or abs(tree.lep_eta[i])>1.52):\n",
        "      n_el+=1;\n",
        "    n_lep+=1;\n",
        "  \n",
        "  #Select events with only 1 good lepton and fill the cutflow histogram\n",
        "\n",
        "  #Third cut (one good lepton)\n",
        "  if n_lep!=1:\n",
        "    continue\n",
        "  cutflow.Fill(3);\n",
        "  cut3+=1;\n",
        "\n",
        "  n_jets=0;\n",
        "  n_bjets=0;\n",
        "  \n",
        "  #Number of jets distribution\n",
        "  hist_njets.Fill(tree.jet_n,tree.mcWeight)\n",
        "\n",
        "  #Fourth cut: At least 4 jets\n",
        "  if tree.jet_n<4:\n",
        "    continue\n",
        "  cutflow.Fill(4);\n",
        "  cut4+=1;\n",
        "\n",
        "  for j in range(0,tree.jet_n):\n",
        "    if tree.jet_pt[j]<25000.:\n",
        "      continue \n",
        "    #To complete: apply jet cuts to find the good jets\n",
        "    if abs(tree.jet_eta[j])>2.5:\n",
        "      continue\n",
        "    if tree.jet_pt[j]<50000. and abs(tree.jet_eta[j])<2.4:\n",
        "      if tree.jet_jvf[j]<0.5:\n",
        "        continue\n",
        "    n_jets+=1;\n",
        "    #And at least two b-jets:\n",
        "    if tree.jet_MV1[j]<0.7892:\n",
        "      continue\n",
        "    n_bjets+=1;\n",
        "\n",
        "  #Fifth cut: At least 4 good jets\n",
        "  if n_jets<4:\n",
        "    continue\n",
        "  cutflow.Fill(5);\n",
        "  cut5+=1;\n",
        "\n",
        "  #Sixth cut: at least one b-jet\n",
        "  hist_nbjets.Fill(n_bjets);\n",
        "\n",
        "  if n_bjets<2:\n",
        "    continue\n",
        "  cutflow.Fill(6);\n",
        "  cut6+=1;\n",
        "\n",
        "  #Seventh cut: MET > 30 GeV\n",
        "  if tree.met_et<30000.:\n",
        "    continue\n",
        "  cutflow.Fill(7);\n",
        "  cut7+=1;\n",
        "\n",
        "  #TLorentzVector definitions\n",
        "  Lepton=ROOT.TLorentzVector();\n",
        "  Lepton.SetPtEtaPhiE(tree.lep_pt[i],tree.lep_eta[i],tree.lep_phi[i],tree.lep_E[i]);\n",
        "  MeT=ROOT.TLorentzVector();\n",
        "  MeT.SetPtEtaPhiE(tree.met_et,0,tree.met_phi,tree.met_et)\n",
        "    \n",
        "\n",
        "  #Calculation of the mTW using TLorentz vectors             \n",
        "  mTW=math.sqrt(2*Lepton.Pt()*MeT.Et()*(1-math.cos(Lepton.DeltaPhi(MeT))));\n",
        "\n",
        "  #Eighth cut:\n",
        "  hist_mtw.Fill(mTW/1000); \n",
        "  if mTW<30000:\n",
        "    continue\n",
        "  cutflow.Fill(8);\n",
        "  cut8+=1;\n",
        "\n",
        "\n",
        "print(\"All done.\")\n",
        "print('All events:',tree.GetEntries())\n",
        "print('cut1=',cut1)\n",
        "print('cut2=',cut2)\n",
        "print('cut3=',cut3)\n",
        "print('cut4=',cut4)\n",
        "print('cut5=',cut5)\n",
        "print('cut6=',cut6)\n",
        "print('cut7=',cut7)\n",
        "print('cut8=',cut8)"
      ],
      "metadata": {
        "id": "n-fs6m63HOZT",
        "colab": {
          "base_uri": "https://localhost:8080/"
        },
        "outputId": "cdeb3778-82aa-48a0-cff6-b68eb7880364"
      },
      "execution_count": 24,
      "outputs": [
        {
          "output_type": "stream",
          "name": "stdout",
          "text": [
            "All done.\n",
            "All events: 14945674\n",
            "cut1= 14656440\n",
            "cut2= 14656440\n",
            "cut3= 12442937\n",
            "cut4= 68196\n",
            "cut5= 67847\n",
            "cut6= 11125\n",
            "cut7= 8741\n",
            "cut8= 7211\n"
          ]
        }
      ]
    },
    {
      "cell_type": "markdown",
      "source": [
        "Ploting the histograms for the transverse mass of W boson and the number of b-jets:"
      ],
      "metadata": {
        "id": "V_XfsgSYqbyN"
      }
    },
    {
      "cell_type": "code",
      "source": [
        " hist_mtw.SetFillColor(7);\n",
        " hist_mtw.Draw();\n",
        " canvas.Draw();\n",
        " canvas.Print(\"hist_mtw.pdf\");"
      ],
      "metadata": {
        "id": "Sktw1r7Yqpo2",
        "colab": {
          "base_uri": "https://localhost:8080/",
          "height": 606
        },
        "outputId": "8a0d2036-5ebb-494a-8be2-59d5ad0f667d"
      },
      "execution_count": 25,
      "outputs": [
        {
          "output_type": "stream",
          "name": "stderr",
          "text": [
            "Info in <TCanvas::Print>: pdf file hist_mtw.pdf has been created\n"
          ]
        },
        {
          "output_type": "display_data",
          "data": {
            "image/png": "[encoded data removed]",
            "text/plain": [
              "<IPython.core.display.Image object>"
            ]
          },
          "metadata": {}
        }
      ]
    },
    {
      "cell_type": "code",
      "source": [
        " hist_nbjets.SetFillColor(6);\n",
        " hist_nbjets.Draw();\n",
        " canvas.SetLogy(1);\n",
        " canvas.Draw();\n",
        " canvas.Print(\"hist_nbjets.pdf\");"
      ],
      "metadata": {
        "id": "oa9W6yWaqcYS",
        "colab": {
          "base_uri": "https://localhost:8080/",
          "height": 606
        },
        "outputId": "e3339b7b-8bf6-4928-b33a-dfdcc4298280"
      },
      "execution_count": 26,
      "outputs": [
        {
          "output_type": "stream",
          "name": "stderr",
          "text": [
            "Info in <TCanvas::Print>: pdf file hist_nbjets.pdf has been created\n"
          ]
        },
        {
          "output_type": "display_data",
          "data": {
            "image/png": "[encoded data removed]",
            "text/plain": [
              "<IPython.core.display.Image object>"
            ]
          },
          "metadata": {}
        }
      ]
    },
    {
      "cell_type": "markdown",
      "source": [
        "And finally, plotting the cutflow:"
      ],
      "metadata": {
        "id": "QryPbLYSrY5C"
      }
    },
    {
      "cell_type": "code",
      "source": [
        "cutflow.Draw();\n",
        "canvas.Draw();\n",
        "canvas.Print(\"cutflow.pdf\");"
      ],
      "metadata": {
        "id": "HPYFQQKprbBG",
        "colab": {
          "base_uri": "https://localhost:8080/",
          "height": 606
        },
        "outputId": "fdfbd61b-93cc-4d7f-afb0-f9d6845e754b"
      },
      "execution_count": 27,
      "outputs": [
        {
          "output_type": "stream",
          "name": "stderr",
          "text": [
            "Info in <TCanvas::Print>: pdf file cutflow.pdf has been created\n"
          ]
        },
        {
          "output_type": "display_data",
          "data": {
            "image/png": "[encoded data removed]",
            "text/plain": [
              "<IPython.core.display.Image object>"
            ]
          },
          "metadata": {}
        }
      ]
    }
  ]
}